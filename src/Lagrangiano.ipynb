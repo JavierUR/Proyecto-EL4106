{
 "cells": [
  {
   "cell_type": "code",
   "execution_count": 31,
   "metadata": {},
   "outputs": [],
   "source": [
    "from sympy import *\n",
    "from sympy.physics.vector import dynamicsymbols, vlatex\n",
    "from sympy.physics.mechanics import *"
   ]
  },
  {
   "cell_type": "code",
   "execution_count": 37,
   "metadata": {},
   "outputs": [],
   "source": [
    "t1=dynamicsymbols('theta_1')\n",
    "t2=dynamicsymbols('theta_2')\n",
    "t3=dynamicsymbols('theta_3')\n",
    "t=Symbol(\"t\")\n",
    "dt1=dynamicsymbols('theta_1',1)\n",
    "dt2=dynamicsymbols('theta_2',1)\n",
    "dt3=dynamicsymbols('theta_3',1)\n",
    "M=Symbol(\"M\")\n",
    "L=Symbol(\"l\")\n",
    "g=Symbol(\"g\")"
   ]
  },
  {
   "cell_type": "markdown",
   "metadata": {},
   "source": [
    "## K1 y P1"
   ]
  },
  {
   "cell_type": "code",
   "execution_count": 38,
   "metadata": {},
   "outputs": [
    {
     "name": "stdout",
     "output_type": "stream",
     "text": [
      "                    2\n",
      "       2 ⎛d        ⎞ \n",
      "0.5⋅M⋅l ⋅⎜──(θ₁(t))⎟ \n",
      "         ⎝dt       ⎠ \n",
      "=================================================================\n",
      "M⋅g⋅l⋅cos(θ₁(t))\n"
     ]
    }
   ],
   "source": [
    "K1=(1./2.)*M*L**2*dt1**2\n",
    "P1=M*g*L*cos(t1)\n",
    "pprint(K1)\n",
    "print(\"=================================================================\")\n",
    "pprint(P1)\n",
    "init_printing()"
   ]
  },
  {
   "cell_type": "markdown",
   "metadata": {},
   "source": [
    "## K2 y P2"
   ]
  },
  {
   "cell_type": "code",
   "execution_count": 39,
   "metadata": {},
   "outputs": [
    {
     "data": {
      "image/png": "[encoded data removed]",
      "text/latex": [
       "$$l^{2} \\left(2 \\cos{\\left (\\theta_{2}{\\left (t \\right )} \\right )} \\left(\\frac{d}{d t} \\theta_{1}{\\left (t \\right )}\\right)^{2} + 2 \\cos{\\left (\\theta_{2}{\\left (t \\right )} \\right )} \\frac{d}{d t} \\theta_{1}{\\left (t \\right )} \\frac{d}{d t} \\theta_{2}{\\left (t \\right )} + 2 \\left(\\frac{d}{d t} \\theta_{1}{\\left (t \\right )}\\right)^{2} + 2 \\frac{d}{d t} \\theta_{1}{\\left (t \\right )} \\frac{d}{d t} \\theta_{2}{\\left (t \\right )} + \\left(\\frac{d}{d t} \\theta_{2}{\\left (t \\right )}\\right)^{2}\\right)$$"
      ],
      "text/plain": [
       "   ⎛                        2                                                 \n",
       " 2 ⎜             ⎛d        ⎞                 d         d             ⎛d       \n",
       "l ⋅⎜2⋅cos(θ₂(t))⋅⎜──(θ₁(t))⎟  + 2⋅cos(θ₂(t))⋅──(θ₁(t))⋅──(θ₂(t)) + 2⋅⎜──(θ₁(t)\n",
       "   ⎝             ⎝dt       ⎠                 dt        dt            ⎝dt      \n",
       "\n",
       "  2                                      2⎞\n",
       " ⎞      d         d           ⎛d        ⎞ ⎟\n",
       ")⎟  + 2⋅──(θ₁(t))⋅──(θ₂(t)) + ⎜──(θ₂(t))⎟ ⎟\n",
       " ⎠      dt        dt          ⎝dt       ⎠ ⎠"
      ]
     },
     "execution_count": 39,
     "metadata": {},
     "output_type": "execute_result"
    }
   ],
   "source": [
    "x2=L*sin(t1)+L*sin(t1+t2)\n",
    "z2=L*cos(t1)+L*cos(t1+t2)\n",
    "v2=(diff(x2,Symbol(\"t\")))**2+(diff(z2,Symbol(\"t\")))**2\n",
    "v2=simplify(v2)\n",
    "v2"
   ]
  },
  {
   "cell_type": "markdown",
   "metadata": {},
   "source": [
    "$ L^{2} \\left(2 \\operatorname{cos}\\left(\\theta_{2}\\right) \\dot{\\theta}_{1}^{2} + 2 \\operatorname{cos}\\left(\\theta_{2}\\right) \\dot{\\theta}_{1} \\dot{\\theta}_{2} + 2 \\dot{\\theta}_{1}^{2} + 2 \\dot{\\theta}_{1} \\dot{\\theta}_{2} + \\dot{\\theta}_{2}^{2}\\right) $"
   ]
  },
  {
   "cell_type": "code",
   "execution_count": 40,
   "metadata": {},
   "outputs": [],
   "source": [
    "K2=(1./2.)*M*v2\n",
    "P2=M*g*z2"
   ]
  },
  {
   "cell_type": "code",
   "execution_count": 42,
   "metadata": {},
   "outputs": [
    {
     "data": {
      "image/png": "[encoded data removed]",
      "text/latex": [
       "$$0.5 M l^{2} \\left(2 \\cos{\\left (\\theta_{2}{\\left (t \\right )} \\right )} \\left(\\frac{d}{d t} \\theta_{1}{\\left (t \\right )}\\right)^{2} + 2 \\cos{\\left (\\theta_{2}{\\left (t \\right )} \\right )} \\frac{d}{d t} \\theta_{1}{\\left (t \\right )} \\frac{d}{d t} \\theta_{2}{\\left (t \\right )} + 2 \\left(\\frac{d}{d t} \\theta_{1}{\\left (t \\right )}\\right)^{2} + 2 \\frac{d}{d t} \\theta_{1}{\\left (t \\right )} \\frac{d}{d t} \\theta_{2}{\\left (t \\right )} + \\left(\\frac{d}{d t} \\theta_{2}{\\left (t \\right )}\\right)^{2}\\right)$$"
      ],
      "text/plain": [
       "         ⎛                        2                                           \n",
       "       2 ⎜             ⎛d        ⎞                 d         d             ⎛d \n",
       "0.5⋅M⋅l ⋅⎜2⋅cos(θ₂(t))⋅⎜──(θ₁(t))⎟  + 2⋅cos(θ₂(t))⋅──(θ₁(t))⋅──(θ₂(t)) + 2⋅⎜──\n",
       "         ⎝             ⎝dt       ⎠                 dt        dt            ⎝dt\n",
       "\n",
       "        2                                      2⎞\n",
       "       ⎞      d         d           ⎛d        ⎞ ⎟\n",
       "(θ₁(t))⎟  + 2⋅──(θ₁(t))⋅──(θ₂(t)) + ⎜──(θ₂(t))⎟ ⎟\n",
       "       ⎠      dt        dt          ⎝dt       ⎠ ⎠"
      ]
     },
     "execution_count": 42,
     "metadata": {},
     "output_type": "execute_result"
    }
   ],
   "source": [
    "K2"
   ]
  },
  {
   "cell_type": "code",
   "execution_count": 43,
   "metadata": {},
   "outputs": [
    {
     "data": {
      "image/png": "[encoded data removed]",
      "text/latex": [
       "$$M g \\left(l \\cos{\\left (\\theta_{1}{\\left (t \\right )} + \\theta_{2}{\\left (t \\right )} \\right )} + l \\cos{\\left (\\theta_{1}{\\left (t \\right )} \\right )}\\right)$$"
      ],
      "text/plain": [
       "M⋅g⋅(l⋅cos(θ₁(t) + θ₂(t)) + l⋅cos(θ₁(t)))"
      ]
     },
     "execution_count": 43,
     "metadata": {},
     "output_type": "execute_result"
    }
   ],
   "source": [
    "P2"
   ]
  },
  {
   "cell_type": "code",
   "execution_count": 44,
   "metadata": {},
   "outputs": [
    {
     "name": "stdout",
     "output_type": "stream",
     "text": [
      "0.5 M l^{2} \\left(2 \\operatorname{cos}\\left(\\theta_{2}\\right) \\dot{\\theta}_{1}^{2} + 2 \\operatorname{cos}\\left(\\theta_{2}\\right) \\dot{\\theta}_{1} \\dot{\\theta}_{2} + 2 \\dot{\\theta}_{1}^{2} + 2 \\dot{\\theta}_{1} \\dot{\\theta}_{2} + \\dot{\\theta}_{2}^{2}\\right)\n"
     ]
    }
   ],
   "source": [
    "print(vlatex(K2))"
   ]
  },
  {
   "cell_type": "markdown",
   "metadata": {},
   "source": [
    "$ K2= 0.5 M l^{2} \\left(2 \\operatorname{cos}\\left(\\theta_{2}\\right) \\dot{\\theta}_{1}^{2} + 2 \\operatorname{cos}\\left(\\theta_{2}\\right) \\dot{\\theta}_{1} \\dot{\\theta}_{2} + 2 \\dot{\\theta}_{1}^{2} + 2 \\dot{\\theta}_{1} \\dot{\\theta}_{2} + \\dot{\\theta}_{2}^{2}\\right)\n",
    "$"
   ]
  },
  {
   "cell_type": "code",
   "execution_count": 45,
   "metadata": {},
   "outputs": [
    {
     "name": "stdout",
     "output_type": "stream",
     "text": [
      "M g \\left(l \\operatorname{cos}\\left(\\theta_{1} + \\theta_{2}\\right) + l \\operatorname{cos}\\left(\\theta_{1}\\right)\\right)\n"
     ]
    }
   ],
   "source": [
    "\n",
    "print(vlatex(P2))"
   ]
  },
  {
   "cell_type": "markdown",
   "metadata": {},
   "source": [
    "$P2= M g \\left(l \\operatorname{cos}\\left(\\theta_{1} + \\theta_{2}\\right) + l \\operatorname{cos}\\left(\\theta_{1}\\right)\\right)\n",
    " $"
   ]
  },
  {
   "cell_type": "markdown",
   "metadata": {},
   "source": [
    "## K3 y P3"
   ]
  },
  {
   "cell_type": "code",
   "execution_count": 46,
   "metadata": {},
   "outputs": [
    {
     "data": {
      "image/png": "[encoded data removed]",
      "text/latex": [
       "$$l^{2} \\left(\\left(\\left(\\frac{d}{d t} \\theta_{1}{\\left (t \\right )} + \\frac{d}{d t} \\theta_{2}{\\left (t \\right )}\\right) \\sin{\\left (\\theta_{1}{\\left (t \\right )} + \\theta_{2}{\\left (t \\right )} \\right )} + \\left(\\frac{d}{d t} \\theta_{1}{\\left (t \\right )} + \\frac{d}{d t} \\theta_{2}{\\left (t \\right )} + \\frac{d}{d t} \\theta_{3}{\\left (t \\right )}\\right) \\sin{\\left (\\theta_{1}{\\left (t \\right )} + \\theta_{2}{\\left (t \\right )} + \\theta_{3}{\\left (t \\right )} \\right )} + \\sin{\\left (\\theta_{1}{\\left (t \\right )} \\right )} \\frac{d}{d t} \\theta_{1}{\\left (t \\right )}\\right)^{2} + \\left(\\left(\\frac{d}{d t} \\theta_{1}{\\left (t \\right )} + \\frac{d}{d t} \\theta_{2}{\\left (t \\right )}\\right) \\cos{\\left (\\theta_{1}{\\left (t \\right )} + \\theta_{2}{\\left (t \\right )} \\right )} + \\left(\\frac{d}{d t} \\theta_{1}{\\left (t \\right )} + \\frac{d}{d t} \\theta_{2}{\\left (t \\right )} + \\frac{d}{d t} \\theta_{3}{\\left (t \\right )}\\right) \\cos{\\left (\\theta_{1}{\\left (t \\right )} + \\theta_{2}{\\left (t \\right )} + \\theta_{3}{\\left (t \\right )} \\right )} + \\cos{\\left (\\theta_{1}{\\left (t \\right )} \\right )} \\frac{d}{d t} \\theta_{1}{\\left (t \\right )}\\right)^{2}\\right)$$"
      ],
      "text/plain": [
       "   ⎛                                                                          \n",
       " 2 ⎜⎛⎛d           d        ⎞                      ⎛d           d           d  \n",
       "l ⋅⎜⎜⎜──(θ₁(t)) + ──(θ₂(t))⎟⋅sin(θ₁(t) + θ₂(t)) + ⎜──(θ₁(t)) + ──(θ₂(t)) + ──(\n",
       "   ⎝⎝⎝dt          dt       ⎠                      ⎝dt          dt          dt \n",
       "\n",
       "                                                          2                   \n",
       "      ⎞                                         d        ⎞    ⎛⎛d           d \n",
       "θ₃(t))⎟⋅sin(θ₁(t) + θ₂(t) + θ₃(t)) + sin(θ₁(t))⋅──(θ₁(t))⎟  + ⎜⎜──(θ₁(t)) + ──\n",
       "      ⎠                                         dt       ⎠    ⎝⎝dt          dt\n",
       "\n",
       "                                                                              \n",
       "       ⎞                      ⎛d           d           d        ⎞             \n",
       "(θ₂(t))⎟⋅cos(θ₁(t) + θ₂(t)) + ⎜──(θ₁(t)) + ──(θ₂(t)) + ──(θ₃(t))⎟⋅cos(θ₁(t) + \n",
       "       ⎠                      ⎝dt          dt          dt       ⎠             \n",
       "\n",
       "                                      2⎞\n",
       "                            d        ⎞ ⎟\n",
       "θ₂(t) + θ₃(t)) + cos(θ₁(t))⋅──(θ₁(t))⎟ ⎟\n",
       "                            dt       ⎠ ⎠"
      ]
     },
     "execution_count": 46,
     "metadata": {},
     "output_type": "execute_result"
    }
   ],
   "source": [
    "x3=L*sin(t1)+L*sin(t1+t2)+L*sin(t1+t2+t3)\n",
    "z3=L*cos(t1)+L*cos(t1+t2)+L*cos(t1+t2+t3)\n",
    "v3=(diff(x3,Symbol(\"t\")))**2+(diff(z3,Symbol(\"t\")))**2\n",
    "v3=simplify(v3)\n",
    "v3"
   ]
  },
  {
   "cell_type": "code",
   "execution_count": 47,
   "metadata": {
    "scrolled": true
   },
   "outputs": [
    {
     "name": "stdout",
     "output_type": "stream",
     "text": [
      "0.5 M l^{2} \\left(\\left(\\left(\\dot{\\theta}_{1} + \\dot{\\theta}_{2}\\right) \\operatorname{sin}\\left(\\theta_{1} + \\theta_{2}\\right) + \\left(\\dot{\\theta}_{1} + \\dot{\\theta}_{2} + \\dot{\\theta}_{3}\\right) \\operatorname{sin}\\left(\\theta_{1} + \\theta_{2} + \\theta_{3}\\right) + \\operatorname{sin}\\left(\\theta_{1}\\right) \\dot{\\theta}_{1}\\right)^{2} + \\left(\\left(\\dot{\\theta}_{1} + \\dot{\\theta}_{2}\\right) \\operatorname{cos}\\left(\\theta_{1} + \\theta_{2}\\right) + \\left(\\dot{\\theta}_{1} + \\dot{\\theta}_{2} + \\dot{\\theta}_{3}\\right) \\operatorname{cos}\\left(\\theta_{1} + \\theta_{2} + \\theta_{3}\\right) + \\operatorname{cos}\\left(\\theta_{1}\\right) \\dot{\\theta}_{1}\\right)^{2}\\right)\n",
      "M g \\left(l \\operatorname{cos}\\left(\\theta_{1} + \\theta_{2}\\right) + l \\operatorname{cos}\\left(\\theta_{1} + \\theta_{2} + \\theta_{3}\\right) + l \\operatorname{cos}\\left(\\theta_{1}\\right)\\right)\n"
     ]
    }
   ],
   "source": [
    "K3=(1./2.)*M*v3\n",
    "P3=M*g*z3\n",
    "print(vlatex(K3))\n",
    "print(vlatex(P3))"
   ]
  },
  {
   "cell_type": "code",
   "execution_count": 48,
   "metadata": {},
   "outputs": [
    {
     "data": {
      "image/png": "[encoded data removed]",
      "text/latex": [
       "$$0.5 M l^{2} \\left(\\left(\\left(\\frac{d}{d t} \\theta_{1}{\\left (t \\right )} + \\frac{d}{d t} \\theta_{2}{\\left (t \\right )}\\right) \\sin{\\left (\\theta_{1}{\\left (t \\right )} + \\theta_{2}{\\left (t \\right )} \\right )} + \\left(\\frac{d}{d t} \\theta_{1}{\\left (t \\right )} + \\frac{d}{d t} \\theta_{2}{\\left (t \\right )} + \\frac{d}{d t} \\theta_{3}{\\left (t \\right )}\\right) \\sin{\\left (\\theta_{1}{\\left (t \\right )} + \\theta_{2}{\\left (t \\right )} + \\theta_{3}{\\left (t \\right )} \\right )} + \\sin{\\left (\\theta_{1}{\\left (t \\right )} \\right )} \\frac{d}{d t} \\theta_{1}{\\left (t \\right )}\\right)^{2} + \\left(\\left(\\frac{d}{d t} \\theta_{1}{\\left (t \\right )} + \\frac{d}{d t} \\theta_{2}{\\left (t \\right )}\\right) \\cos{\\left (\\theta_{1}{\\left (t \\right )} + \\theta_{2}{\\left (t \\right )} \\right )} + \\left(\\frac{d}{d t} \\theta_{1}{\\left (t \\right )} + \\frac{d}{d t} \\theta_{2}{\\left (t \\right )} + \\frac{d}{d t} \\theta_{3}{\\left (t \\right )}\\right) \\cos{\\left (\\theta_{1}{\\left (t \\right )} + \\theta_{2}{\\left (t \\right )} + \\theta_{3}{\\left (t \\right )} \\right )} + \\cos{\\left (\\theta_{1}{\\left (t \\right )} \\right )} \\frac{d}{d t} \\theta_{1}{\\left (t \\right )}\\right)^{2}\\right)$$"
      ],
      "text/plain": [
       "         ⎛                                                                    \n",
       "       2 ⎜⎛⎛d           d        ⎞                      ⎛d           d        \n",
       "0.5⋅M⋅l ⋅⎜⎜⎜──(θ₁(t)) + ──(θ₂(t))⎟⋅sin(θ₁(t) + θ₂(t)) + ⎜──(θ₁(t)) + ──(θ₂(t))\n",
       "         ⎝⎝⎝dt          dt       ⎠                      ⎝dt          dt       \n",
       "\n",
       "                                                                2             \n",
       "   d        ⎞                                         d        ⎞    ⎛⎛d       \n",
       " + ──(θ₃(t))⎟⋅sin(θ₁(t) + θ₂(t) + θ₃(t)) + sin(θ₁(t))⋅──(θ₁(t))⎟  + ⎜⎜──(θ₁(t)\n",
       "   dt       ⎠                                         dt       ⎠    ⎝⎝dt      \n",
       "\n",
       "                                                                              \n",
       "    d        ⎞                      ⎛d           d           d        ⎞       \n",
       ") + ──(θ₂(t))⎟⋅cos(θ₁(t) + θ₂(t)) + ⎜──(θ₁(t)) + ──(θ₂(t)) + ──(θ₃(t))⎟⋅cos(θ₁\n",
       "    dt       ⎠                      ⎝dt          dt          dt       ⎠       \n",
       "\n",
       "                                            2⎞\n",
       "                                  d        ⎞ ⎟\n",
       "(t) + θ₂(t) + θ₃(t)) + cos(θ₁(t))⋅──(θ₁(t))⎟ ⎟\n",
       "                                  dt       ⎠ ⎠"
      ]
     },
     "execution_count": 48,
     "metadata": {},
     "output_type": "execute_result"
    }
   ],
   "source": [
    "K3"
   ]
  },
  {
   "cell_type": "code",
   "execution_count": 49,
   "metadata": {},
   "outputs": [
    {
     "data": {
      "image/png": "[encoded data removed]",
      "text/latex": [
       "$$M g \\left(l \\cos{\\left (\\theta_{1}{\\left (t \\right )} + \\theta_{2}{\\left (t \\right )} \\right )} + l \\cos{\\left (\\theta_{1}{\\left (t \\right )} + \\theta_{2}{\\left (t \\right )} + \\theta_{3}{\\left (t \\right )} \\right )} + l \\cos{\\left (\\theta_{1}{\\left (t \\right )} \\right )}\\right)$$"
      ],
      "text/plain": [
       "M⋅g⋅(l⋅cos(θ₁(t) + θ₂(t)) + l⋅cos(θ₁(t) + θ₂(t) + θ₃(t)) + l⋅cos(θ₁(t)))"
      ]
     },
     "execution_count": 49,
     "metadata": {},
     "output_type": "execute_result"
    }
   ],
   "source": [
    "P3"
   ]
  },
  {
   "cell_type": "markdown",
   "metadata": {},
   "source": [
    "$K3= 0.5 L^{2} M \\left(\\left(\\left(\\dot{\\theta}_{1} + \\dot{\\theta}_{2}\\right) \\operatorname{sin}\\left(\\theta_{1} + \\theta_{2}\\right) + \\left(\\dot{\\theta}_{1} + \\dot{\\theta}_{2} + \\dot{\\theta}_{3}\\right) \\operatorname{sin}\\left(\\theta_{1} + \\theta_{2} + \\theta_{3}\\right) + \\operatorname{sin}\\left(\\theta_{1}\\right) \\dot{\\theta}_{1}\\right)^{2} + \\left(\\left(\\dot{\\theta}_{1} + \\dot{\\theta}_{2}\\right) \\operatorname{cos}\\left(\\theta_{1} + \\theta_{2}\\right) + \\left(\\dot{\\theta}_{1} + \\dot{\\theta}_{2} + \\dot{\\theta}_{3}\\right) \\operatorname{cos}\\left(\\theta_{1} + \\theta_{2} + \\theta_{3}\\right) + \\operatorname{cos}\\left(\\theta_{1}\\right) \\dot{\\theta}_{1}\\right)^{2}\\right)$"
   ]
  },
  {
   "cell_type": "markdown",
   "metadata": {},
   "source": [
    "$ P3= M g \\left(L \\operatorname{cos}\\left(\\theta_{1} + \\theta_{2}\\right) + L \\operatorname{cos}\\left(\\theta_{1} + \\theta_{2} + \\theta_{3}\\right) + L \\operatorname{cos}\\left(\\theta_{1}\\right)\\right)$"
   ]
  },
  {
   "cell_type": "markdown",
   "metadata": {},
   "source": [
    "# Lagrangiano"
   ]
  },
  {
   "cell_type": "code",
   "execution_count": 50,
   "metadata": {},
   "outputs": [
    {
     "name": "stdout",
     "output_type": "stream",
     "text": [
      "M l \\left(- 2.0 g \\operatorname{cos}\\left(\\theta_{1} + \\theta_{2}\\right) - 1.0 g \\operatorname{cos}\\left(\\theta_{1} + \\theta_{2} + \\theta_{3}\\right) - 3.0 g \\operatorname{cos}\\left(\\theta_{1}\\right) + 1.0 l \\operatorname{cos}\\left(\\theta_{2} + \\theta_{3}\\right) \\dot{\\theta}_{1}^{2} + 1.0 l \\operatorname{cos}\\left(\\theta_{2} + \\theta_{3}\\right) \\dot{\\theta}_{1} \\dot{\\theta}_{2} + 1.0 l \\operatorname{cos}\\left(\\theta_{2} + \\theta_{3}\\right) \\dot{\\theta}_{1} \\dot{\\theta}_{3} + 2.0 l \\operatorname{cos}\\left(\\theta_{2}\\right) \\dot{\\theta}_{1}^{2} + 2.0 l \\operatorname{cos}\\left(\\theta_{2}\\right) \\dot{\\theta}_{1} \\dot{\\theta}_{2} + 1.0 l \\operatorname{cos}\\left(\\theta_{3}\\right) \\dot{\\theta}_{1}^{2} + 2.0 l \\operatorname{cos}\\left(\\theta_{3}\\right) \\dot{\\theta}_{1} \\dot{\\theta}_{2} + 1.0 l \\operatorname{cos}\\left(\\theta_{3}\\right) \\dot{\\theta}_{1} \\dot{\\theta}_{3} + 1.0 l \\operatorname{cos}\\left(\\theta_{3}\\right) \\dot{\\theta}_{2}^{2} + 1.0 l \\operatorname{cos}\\left(\\theta_{3}\\right) \\dot{\\theta}_{2} \\dot{\\theta}_{3} + 3.0 l \\dot{\\theta}_{1}^{2} + 3.0 l \\dot{\\theta}_{1} \\dot{\\theta}_{2} + 1.0 l \\dot{\\theta}_{1} \\dot{\\theta}_{3} + 1.5 l \\dot{\\theta}_{2}^{2} + 1.0 l \\dot{\\theta}_{2} \\dot{\\theta}_{3} + 0.5 l \\dot{\\theta}_{3}^{2}\\right)\n"
     ]
    },
    {
     "data": {
      "image/png": "[encoded data removed]",
      "text/latex": [
       "$$M l \\left(- 2.0 g \\cos{\\left (\\theta_{1}{\\left (t \\right )} + \\theta_{2}{\\left (t \\right )} \\right )} - 1.0 g \\cos{\\left (\\theta_{1}{\\left (t \\right )} + \\theta_{2}{\\left (t \\right )} + \\theta_{3}{\\left (t \\right )} \\right )} - 3.0 g \\cos{\\left (\\theta_{1}{\\left (t \\right )} \\right )} + 1.0 l \\cos{\\left (\\theta_{2}{\\left (t \\right )} + \\theta_{3}{\\left (t \\right )} \\right )} \\left(\\frac{d}{d t} \\theta_{1}{\\left (t \\right )}\\right)^{2} + 1.0 l \\cos{\\left (\\theta_{2}{\\left (t \\right )} + \\theta_{3}{\\left (t \\right )} \\right )} \\frac{d}{d t} \\theta_{1}{\\left (t \\right )} \\frac{d}{d t} \\theta_{2}{\\left (t \\right )} + 1.0 l \\cos{\\left (\\theta_{2}{\\left (t \\right )} + \\theta_{3}{\\left (t \\right )} \\right )} \\frac{d}{d t} \\theta_{1}{\\left (t \\right )} \\frac{d}{d t} \\theta_{3}{\\left (t \\right )} + 2.0 l \\cos{\\left (\\theta_{2}{\\left (t \\right )} \\right )} \\left(\\frac{d}{d t} \\theta_{1}{\\left (t \\right )}\\right)^{2} + 2.0 l \\cos{\\left (\\theta_{2}{\\left (t \\right )} \\right )} \\frac{d}{d t} \\theta_{1}{\\left (t \\right )} \\frac{d}{d t} \\theta_{2}{\\left (t \\right )} + 1.0 l \\cos{\\left (\\theta_{3}{\\left (t \\right )} \\right )} \\left(\\frac{d}{d t} \\theta_{1}{\\left (t \\right )}\\right)^{2} + 2.0 l \\cos{\\left (\\theta_{3}{\\left (t \\right )} \\right )} \\frac{d}{d t} \\theta_{1}{\\left (t \\right )} \\frac{d}{d t} \\theta_{2}{\\left (t \\right )} + 1.0 l \\cos{\\left (\\theta_{3}{\\left (t \\right )} \\right )} \\frac{d}{d t} \\theta_{1}{\\left (t \\right )} \\frac{d}{d t} \\theta_{3}{\\left (t \\right )} + 1.0 l \\cos{\\left (\\theta_{3}{\\left (t \\right )} \\right )} \\left(\\frac{d}{d t} \\theta_{2}{\\left (t \\right )}\\right)^{2} + 1.0 l \\cos{\\left (\\theta_{3}{\\left (t \\right )} \\right )} \\frac{d}{d t} \\theta_{2}{\\left (t \\right )} \\frac{d}{d t} \\theta_{3}{\\left (t \\right )} + 3.0 l \\left(\\frac{d}{d t} \\theta_{1}{\\left (t \\right )}\\right)^{2} + 3.0 l \\frac{d}{d t} \\theta_{1}{\\left (t \\right )} \\frac{d}{d t} \\theta_{2}{\\left (t \\right )} + 1.0 l \\frac{d}{d t} \\theta_{1}{\\left (t \\right )} \\frac{d}{d t} \\theta_{3}{\\left (t \\right )} + 1.5 l \\left(\\frac{d}{d t} \\theta_{2}{\\left (t \\right )}\\right)^{2} + 1.0 l \\frac{d}{d t} \\theta_{2}{\\left (t \\right )} \\frac{d}{d t} \\theta_{3}{\\left (t \\right )} + 0.5 l \\left(\\frac{d}{d t} \\theta_{3}{\\left (t \\right )}\\right)^{2}\\right)$$"
      ],
      "text/plain": [
       "    ⎛                                                                         \n",
       "    ⎜                                                                         \n",
       "M⋅l⋅⎜-2.0⋅g⋅cos(θ₁(t) + θ₂(t)) - 1.0⋅g⋅cos(θ₁(t) + θ₂(t) + θ₃(t)) - 3.0⋅g⋅cos(\n",
       "    ⎝                                                                         \n",
       "\n",
       "                                             2                                \n",
       "                                  ⎛d        ⎞                             d   \n",
       "θ₁(t)) + 1.0⋅l⋅cos(θ₂(t) + θ₃(t))⋅⎜──(θ₁(t))⎟  + 1.0⋅l⋅cos(θ₂(t) + θ₃(t))⋅──(θ\n",
       "                                  ⎝dt       ⎠                             dt  \n",
       "\n",
       "                                                                              \n",
       "      d                                    d         d                        \n",
       "₁(t))⋅──(θ₂(t)) + 1.0⋅l⋅cos(θ₂(t) + θ₃(t))⋅──(θ₁(t))⋅──(θ₃(t)) + 2.0⋅l⋅cos(θ₂(\n",
       "      dt                                   dt        dt                       \n",
       "\n",
       "               2                                                              \n",
       "    ⎛d        ⎞                     d         d                            ⎛d \n",
       "t))⋅⎜──(θ₁(t))⎟  + 2.0⋅l⋅cos(θ₂(t))⋅──(θ₁(t))⋅──(θ₂(t)) + 1.0⋅l⋅cos(θ₃(t))⋅⎜──\n",
       "    ⎝dt       ⎠                     dt        dt                           ⎝dt\n",
       "\n",
       "        2                                                                     \n",
       "       ⎞                     d         d                            d         \n",
       "(θ₁(t))⎟  + 2.0⋅l⋅cos(θ₃(t))⋅──(θ₁(t))⋅──(θ₂(t)) + 1.0⋅l⋅cos(θ₃(t))⋅──(θ₁(t))⋅\n",
       "       ⎠                     dt        dt                           dt        \n",
       "\n",
       "                                        2                                     \n",
       "d                            ⎛d        ⎞                     d         d      \n",
       "──(θ₃(t)) + 1.0⋅l⋅cos(θ₃(t))⋅⎜──(θ₂(t))⎟  + 1.0⋅l⋅cos(θ₃(t))⋅──(θ₂(t))⋅──(θ₃(t\n",
       "dt                           ⎝dt       ⎠                     dt        dt     \n",
       "\n",
       "                      2                                                       \n",
       "           ⎛d        ⎞          d         d                 d         d       \n",
       ")) + 3.0⋅l⋅⎜──(θ₁(t))⎟  + 3.0⋅l⋅──(θ₁(t))⋅──(θ₂(t)) + 1.0⋅l⋅──(θ₁(t))⋅──(θ₃(t)\n",
       "           ⎝dt       ⎠          dt        dt                dt        dt      \n",
       "\n",
       "                     2                                                2⎞\n",
       "          ⎛d        ⎞          d         d                 ⎛d        ⎞ ⎟\n",
       ") + 1.5⋅l⋅⎜──(θ₂(t))⎟  + 1.0⋅l⋅──(θ₂(t))⋅──(θ₃(t)) + 0.5⋅l⋅⎜──(θ₃(t))⎟ ⎟\n",
       "          ⎝dt       ⎠          dt        dt                ⎝dt       ⎠ ⎠"
      ]
     },
     "execution_count": 50,
     "metadata": {},
     "output_type": "execute_result"
    }
   ],
   "source": [
    "L=K1+K2+K3-P1-P2-P3\n",
    "L=simplify(L)\n",
    "print(vlatex(L))\n",
    "L"
   ]
  },
  {
   "cell_type": "markdown",
   "metadata": {},
   "source": [
    "$ M l \\left(- 2.0 g \\operatorname{cos}\\left(\\theta_{1} + \\theta_{2}\\right) - 1.0 g \\operatorname{cos}\\left(\\theta_{1} + \\theta_{2} + \\theta_{3}\\right) - 3.0 g \\operatorname{cos}\\left(\\theta_{1}\\right) + 1.0 l \\operatorname{cos}\\left(\\theta_{2} + \\theta_{3}\\right) \\dot{\\theta}_{1}^{2} + 1.0 l \\operatorname{cos}\\left(\\theta_{2} + \\theta_{3}\\right) \\dot{\\theta}_{1} \\dot{\\theta}_{2} + 1.0 l \\operatorname{cos}\\left(\\theta_{2} + \\theta_{3}\\right) \\dot{\\theta}_{1} \\dot{\\theta}_{3} + 2.0 l \\operatorname{cos}\\left(\\theta_{2}\\right) \\dot{\\theta}_{1}^{2} + 2.0 l \\operatorname{cos}\\left(\\theta_{2}\\right) \\dot{\\theta}_{1} \\dot{\\theta}_{2} + 1.0 l \\operatorname{cos}\\left(\\theta_{3}\\right) \\dot{\\theta}_{1}^{2} + 2.0 l \\operatorname{cos}\\left(\\theta_{3}\\right) \\dot{\\theta}_{1} \\dot{\\theta}_{2} + 1.0 l \\operatorname{cos}\\left(\\theta_{3}\\right) \\dot{\\theta}_{1} \\dot{\\theta}_{3} + 1.0 l \\operatorname{cos}\\left(\\theta_{3}\\right) \\dot{\\theta}_{2}^{2} + 1.0 l \\operatorname{cos}\\left(\\theta_{3}\\right) \\dot{\\theta}_{2} \\dot{\\theta}_{3} + 3.0 l \\dot{\\theta}_{1}^{2} + 3.0 l \\dot{\\theta}_{1} \\dot{\\theta}_{2} + 1.0 l \\dot{\\theta}_{1} \\dot{\\theta}_{3} + 1.5 l \\dot{\\theta}_{2}^{2} + 1.0 l \\dot{\\theta}_{2} \\dot{\\theta}_{3} + 0.5 l \\dot{\\theta}_{3}^{2}\\right)\n",
    " $"
   ]
  },
  {
   "cell_type": "markdown",
   "metadata": {},
   "source": [
    "$La= M l \\left(- 2.0 g \\operatorname{cos}\\left(\\theta_{1} + \\theta_{2}\\right) - 1.0 g \\operatorname{cos}\\left(\\theta_{1} + \\theta_{2} + \\theta_{3}\\right) - 3.0 g \\operatorname{cos}\\left(\\theta_{1}\\right) + 1.0 l \\operatorname{cos}\\left(\\theta_{2} + \\theta_{3}\\right) \\dot{\\theta}_{1}^{2} + 1.0 l \\operatorname{cos}\\left(\\theta_{2} + \\theta_{3}\\right) \\dot{\\theta}_{1} \\dot{\\theta}_{2} + 1.0 l \\operatorname{cos}\\left(\\theta_{2} + \\theta_{3}\\right) \\dot{\\theta}_{1} \\dot{\\theta}_{3} + 2.0 l \\operatorname{cos}\\left(\\theta_{2}\\right) \\dot{\\theta}_{1}^{2} + 2.0 l \\operatorname{cos}\\left(\\theta_{2}\\right) \\dot{\\theta}_{1} \\dot{\\theta}_{2} + 1.0 l \\operatorname{cos}\\left(\\theta_{3}\\right) \\dot{\\theta}_{1}^{2} + 2.0 l \\operatorname{cos}\\left(\\theta_{3}\\right) \\dot{\\theta}_{1} \\dot{\\theta}_{2} + 1.0 l \\operatorname{cos}\\left(\\theta_{3}\\right) \\dot{\\theta}_{1} \\dot{\\theta}_{3} + 1.0 l \\operatorname{cos}\\left(\\theta_{3}\\right) \\dot{\\theta}_{2}^{2} + 1.0 l \\operatorname{cos}\\left(\\theta_{3}\\right) \\dot{\\theta}_{2} \\dot{\\theta}_{3} + 3.0 l \\dot{\\theta}_{1}^{2} + 3.0 l \\dot{\\theta}_{1} \\dot{\\theta}_{2} + 1.0 l \\dot{\\theta}_{1} \\dot{\\theta}_{3} + 1.5 l \\dot{\\theta}_{2}^{2} + 1.0 l \\dot{\\theta}_{2} \\dot{\\theta}_{3} + 0.5 l \\dot{\\theta}_{3}^{2}\\right)\n",
    "$"
   ]
  },
  {
   "cell_type": "code",
   "execution_count": 51,
   "metadata": {},
   "outputs": [
    {
     "data": {
      "image/png": "[encoded data removed]",
      "text/latex": [
       "$$M l \\left(2.0 l \\cos{\\left (\\theta_{2}{\\left (t \\right )} + \\theta_{3}{\\left (t \\right )} \\right )} \\frac{d}{d t} \\theta_{1}{\\left (t \\right )} + 1.0 l \\cos{\\left (\\theta_{2}{\\left (t \\right )} + \\theta_{3}{\\left (t \\right )} \\right )} \\frac{d}{d t} \\theta_{2}{\\left (t \\right )} + 1.0 l \\cos{\\left (\\theta_{2}{\\left (t \\right )} + \\theta_{3}{\\left (t \\right )} \\right )} \\frac{d}{d t} \\theta_{3}{\\left (t \\right )} + 4.0 l \\cos{\\left (\\theta_{2}{\\left (t \\right )} \\right )} \\frac{d}{d t} \\theta_{1}{\\left (t \\right )} + 2.0 l \\cos{\\left (\\theta_{2}{\\left (t \\right )} \\right )} \\frac{d}{d t} \\theta_{2}{\\left (t \\right )} + 2.0 l \\cos{\\left (\\theta_{3}{\\left (t \\right )} \\right )} \\frac{d}{d t} \\theta_{1}{\\left (t \\right )} + 2.0 l \\cos{\\left (\\theta_{3}{\\left (t \\right )} \\right )} \\frac{d}{d t} \\theta_{2}{\\left (t \\right )} + 1.0 l \\cos{\\left (\\theta_{3}{\\left (t \\right )} \\right )} \\frac{d}{d t} \\theta_{3}{\\left (t \\right )} + 6.0 l \\frac{d}{d t} \\theta_{1}{\\left (t \\right )} + 3.0 l \\frac{d}{d t} \\theta_{2}{\\left (t \\right )} + 1.0 l \\frac{d}{d t} \\theta_{3}{\\left (t \\right )}\\right)$$"
      ],
      "text/plain": [
       "    ⎛                         d                                    d          \n",
       "M⋅l⋅⎜2.0⋅l⋅cos(θ₂(t) + θ₃(t))⋅──(θ₁(t)) + 1.0⋅l⋅cos(θ₂(t) + θ₃(t))⋅──(θ₂(t)) +\n",
       "    ⎝                         dt                                   dt         \n",
       "\n",
       "                          d                            d                      \n",
       " 1.0⋅l⋅cos(θ₂(t) + θ₃(t))⋅──(θ₃(t)) + 4.0⋅l⋅cos(θ₂(t))⋅──(θ₁(t)) + 2.0⋅l⋅cos(θ\n",
       "                          dt                           dt                     \n",
       "\n",
       "      d                            d                            d             \n",
       "₂(t))⋅──(θ₂(t)) + 2.0⋅l⋅cos(θ₃(t))⋅──(θ₁(t)) + 2.0⋅l⋅cos(θ₃(t))⋅──(θ₂(t)) + 1.\n",
       "      dt                           dt                           dt            \n",
       "\n",
       "               d                 d                 d                 d        \n",
       "0⋅l⋅cos(θ₃(t))⋅──(θ₃(t)) + 6.0⋅l⋅──(θ₁(t)) + 3.0⋅l⋅──(θ₂(t)) + 1.0⋅l⋅──(θ₃(t))\n",
       "               dt                dt                dt                dt       \n",
       "\n",
       "⎞\n",
       "⎟\n",
       "⎠"
      ]
     },
     "execution_count": 51,
     "metadata": {},
     "output_type": "execute_result"
    }
   ],
   "source": [
    "diff(L,dt1)"
   ]
  },
  {
   "cell_type": "code",
   "execution_count": 52,
   "metadata": {
    "scrolled": false
   },
   "outputs": [],
   "source": [
    "torque1=diff(diff(L,dt1),t)-diff(L,t1)\n",
    "torque2=diff(diff(L,dt2),t)-diff(L,t2)\n",
    "torque3=diff(diff(L,dt3),t)-diff(L,t3)\n",
    "\n",
    "torque1=simplify(torque1)\n",
    "torque2=simplify(torque2)\n",
    "torque3=simplify(torque3)"
   ]
  },
  {
   "cell_type": "code",
   "execution_count": 53,
   "metadata": {},
   "outputs": [
    {
     "name": "stdout",
     "output_type": "stream",
     "text": [
      "M l \\left(- g \\left(2.0 \\operatorname{sin}\\left(\\theta_{1} + \\theta_{2}\\right) + 1.0 \\operatorname{sin}\\left(\\theta_{1} + \\theta_{2} + \\theta_{3}\\right) + 3.0 \\operatorname{sin}\\left(\\theta_{1}\\right)\\right) + l \\left(- 2.0 \\left(\\dot{\\theta}_{2} + \\dot{\\theta}_{3}\\right) \\operatorname{sin}\\left(\\theta_{2} + \\theta_{3}\\right) \\dot{\\theta}_{1} - 1.0 \\left(\\dot{\\theta}_{2} + \\dot{\\theta}_{3}\\right) \\operatorname{sin}\\left(\\theta_{2} + \\theta_{3}\\right) \\dot{\\theta}_{2} - 1.0 \\left(\\dot{\\theta}_{2} + \\dot{\\theta}_{3}\\right) \\operatorname{sin}\\left(\\theta_{2} + \\theta_{3}\\right) \\dot{\\theta}_{3} - 4.0 \\operatorname{sin}\\left(\\theta_{2}\\right) \\dot{\\theta}_{1} \\dot{\\theta}_{2} - 2.0 \\operatorname{sin}\\left(\\theta_{2}\\right) \\dot{\\theta}_{2}^{2} - 2.0 \\operatorname{sin}\\left(\\theta_{3}\\right) \\dot{\\theta}_{1} \\dot{\\theta}_{3} - 2.0 \\operatorname{sin}\\left(\\theta_{3}\\right) \\dot{\\theta}_{2} \\dot{\\theta}_{3} - 1.0 \\operatorname{sin}\\left(\\theta_{3}\\right) \\dot{\\theta}_{3}^{2} + 2.0 \\operatorname{cos}\\left(\\theta_{2} + \\theta_{3}\\right) \\ddot{\\theta}_{1} + 1.0 \\operatorname{cos}\\left(\\theta_{2} + \\theta_{3}\\right) \\ddot{\\theta}_{2} + 1.0 \\operatorname{cos}\\left(\\theta_{2} + \\theta_{3}\\right) \\ddot{\\theta}_{3} + 4.0 \\operatorname{cos}\\left(\\theta_{2}\\right) \\ddot{\\theta}_{1} + 2.0 \\operatorname{cos}\\left(\\theta_{2}\\right) \\ddot{\\theta}_{2} + 2.0 \\operatorname{cos}\\left(\\theta_{3}\\right) \\ddot{\\theta}_{1} + 2.0 \\operatorname{cos}\\left(\\theta_{3}\\right) \\ddot{\\theta}_{2} + 1.0 \\operatorname{cos}\\left(\\theta_{3}\\right) \\ddot{\\theta}_{3} + 6.0 \\ddot{\\theta}_{1} + 3.0 \\ddot{\\theta}_{2} + 1.0 \\ddot{\\theta}_{3}\\right)\\right)\n"
     ]
    },
    {
     "data": {
      "image/png": "[encoded data removed]",
      "text/latex": [
       "$$M l \\left(- g \\left(2.0 \\sin{\\left (\\theta_{1}{\\left (t \\right )} + \\theta_{2}{\\left (t \\right )} \\right )} + 1.0 \\sin{\\left (\\theta_{1}{\\left (t \\right )} + \\theta_{2}{\\left (t \\right )} + \\theta_{3}{\\left (t \\right )} \\right )} + 3.0 \\sin{\\left (\\theta_{1}{\\left (t \\right )} \\right )}\\right) + l \\left(- 2.0 \\left(\\frac{d}{d t} \\theta_{2}{\\left (t \\right )} + \\frac{d}{d t} \\theta_{3}{\\left (t \\right )}\\right) \\sin{\\left (\\theta_{2}{\\left (t \\right )} + \\theta_{3}{\\left (t \\right )} \\right )} \\frac{d}{d t} \\theta_{1}{\\left (t \\right )} - 1.0 \\left(\\frac{d}{d t} \\theta_{2}{\\left (t \\right )} + \\frac{d}{d t} \\theta_{3}{\\left (t \\right )}\\right) \\sin{\\left (\\theta_{2}{\\left (t \\right )} + \\theta_{3}{\\left (t \\right )} \\right )} \\frac{d}{d t} \\theta_{2}{\\left (t \\right )} - 1.0 \\left(\\frac{d}{d t} \\theta_{2}{\\left (t \\right )} + \\frac{d}{d t} \\theta_{3}{\\left (t \\right )}\\right) \\sin{\\left (\\theta_{2}{\\left (t \\right )} + \\theta_{3}{\\left (t \\right )} \\right )} \\frac{d}{d t} \\theta_{3}{\\left (t \\right )} - 4.0 \\sin{\\left (\\theta_{2}{\\left (t \\right )} \\right )} \\frac{d}{d t} \\theta_{1}{\\left (t \\right )} \\frac{d}{d t} \\theta_{2}{\\left (t \\right )} - 2.0 \\sin{\\left (\\theta_{2}{\\left (t \\right )} \\right )} \\left(\\frac{d}{d t} \\theta_{2}{\\left (t \\right )}\\right)^{2} - 2.0 \\sin{\\left (\\theta_{3}{\\left (t \\right )} \\right )} \\frac{d}{d t} \\theta_{1}{\\left (t \\right )} \\frac{d}{d t} \\theta_{3}{\\left (t \\right )} - 2.0 \\sin{\\left (\\theta_{3}{\\left (t \\right )} \\right )} \\frac{d}{d t} \\theta_{2}{\\left (t \\right )} \\frac{d}{d t} \\theta_{3}{\\left (t \\right )} - 1.0 \\sin{\\left (\\theta_{3}{\\left (t \\right )} \\right )} \\left(\\frac{d}{d t} \\theta_{3}{\\left (t \\right )}\\right)^{2} + 2.0 \\cos{\\left (\\theta_{2}{\\left (t \\right )} + \\theta_{3}{\\left (t \\right )} \\right )} \\frac{d^{2}}{d t^{2}} \\theta_{1}{\\left (t \\right )} + 1.0 \\cos{\\left (\\theta_{2}{\\left (t \\right )} + \\theta_{3}{\\left (t \\right )} \\right )} \\frac{d^{2}}{d t^{2}} \\theta_{2}{\\left (t \\right )} + 1.0 \\cos{\\left (\\theta_{2}{\\left (t \\right )} + \\theta_{3}{\\left (t \\right )} \\right )} \\frac{d^{2}}{d t^{2}} \\theta_{3}{\\left (t \\right )} + 4.0 \\cos{\\left (\\theta_{2}{\\left (t \\right )} \\right )} \\frac{d^{2}}{d t^{2}} \\theta_{1}{\\left (t \\right )} + 2.0 \\cos{\\left (\\theta_{2}{\\left (t \\right )} \\right )} \\frac{d^{2}}{d t^{2}} \\theta_{2}{\\left (t \\right )} + 2.0 \\cos{\\left (\\theta_{3}{\\left (t \\right )} \\right )} \\frac{d^{2}}{d t^{2}} \\theta_{1}{\\left (t \\right )} + 2.0 \\cos{\\left (\\theta_{3}{\\left (t \\right )} \\right )} \\frac{d^{2}}{d t^{2}} \\theta_{2}{\\left (t \\right )} + 1.0 \\cos{\\left (\\theta_{3}{\\left (t \\right )} \\right )} \\frac{d^{2}}{d t^{2}} \\theta_{3}{\\left (t \\right )} + 6.0 \\frac{d^{2}}{d t^{2}} \\theta_{1}{\\left (t \\right )} + 3.0 \\frac{d^{2}}{d t^{2}} \\theta_{2}{\\left (t \\right )} + 1.0 \\frac{d^{2}}{d t^{2}} \\theta_{3}{\\left (t \\right )}\\right)\\right)$$"
      ],
      "text/plain": [
       "    ⎛                                                                         \n",
       "    ⎜                                                                         \n",
       "M⋅l⋅⎜-g⋅(2.0⋅sin(θ₁(t) + θ₂(t)) + 1.0⋅sin(θ₁(t) + θ₂(t) + θ₃(t)) + 3.0⋅sin(θ₁(\n",
       "    ⎜                                                                         \n",
       "    ⎝                                                                         \n",
       "\n",
       "         ⎛                                                                    \n",
       "         ⎜      ⎛d           d        ⎞                    d               ⎛d \n",
       "t))) + l⋅⎜- 2.0⋅⎜──(θ₂(t)) + ──(θ₃(t))⎟⋅sin(θ₂(t) + θ₃(t))⋅──(θ₁(t)) - 1.0⋅⎜──\n",
       "         ⎜      ⎝dt          dt       ⎠                    dt              ⎝dt\n",
       "         ⎝                                                                    \n",
       "\n",
       "                                                                              \n",
       "          d        ⎞                    d               ⎛d           d        \n",
       "(θ₂(t)) + ──(θ₃(t))⎟⋅sin(θ₂(t) + θ₃(t))⋅──(θ₂(t)) - 1.0⋅⎜──(θ₂(t)) + ──(θ₃(t))\n",
       "          dt       ⎠                    dt              ⎝dt          dt       \n",
       "                                                                              \n",
       "\n",
       "                                                                              \n",
       "⎞                    d                          d         d                   \n",
       "⎟⋅sin(θ₂(t) + θ₃(t))⋅──(θ₃(t)) - 4.0⋅sin(θ₂(t))⋅──(θ₁(t))⋅──(θ₂(t)) - 2.0⋅sin(\n",
       "⎠                    dt                         dt        dt                  \n",
       "                                                                              \n",
       "\n",
       "                  2                                                           \n",
       "       ⎛d        ⎞                   d         d                          d   \n",
       "θ₂(t))⋅⎜──(θ₂(t))⎟  - 2.0⋅sin(θ₃(t))⋅──(θ₁(t))⋅──(θ₃(t)) - 2.0⋅sin(θ₃(t))⋅──(θ\n",
       "       ⎝dt       ⎠                   dt        dt                         dt  \n",
       "                                                                              \n",
       "\n",
       "                                            2                            2    \n",
       "      d                          ⎛d        ⎞                            d     \n",
       "₂(t))⋅──(θ₃(t)) - 1.0⋅sin(θ₃(t))⋅⎜──(θ₃(t))⎟  + 2.0⋅cos(θ₂(t) + θ₃(t))⋅───(θ₁(\n",
       "      dt                         ⎝dt       ⎠                             2    \n",
       "                                                                       dt     \n",
       "\n",
       "                               2                                   2          \n",
       "                              d                                   d           \n",
       "t)) + 1.0⋅cos(θ₂(t) + θ₃(t))⋅───(θ₂(t)) + 1.0⋅cos(θ₂(t) + θ₃(t))⋅───(θ₃(t)) + \n",
       "                               2                                   2          \n",
       "                             dt                                  dt           \n",
       "\n",
       "                 2                           2                           2    \n",
       "                d                           d                           d     \n",
       "4.0⋅cos(θ₂(t))⋅───(θ₁(t)) + 2.0⋅cos(θ₂(t))⋅───(θ₂(t)) + 2.0⋅cos(θ₃(t))⋅───(θ₁(\n",
       "                 2                           2                           2    \n",
       "               dt                          dt                          dt     \n",
       "\n",
       "                       2                           2                2         \n",
       "                      d                           d                d          \n",
       "t)) + 2.0⋅cos(θ₃(t))⋅───(θ₂(t)) + 1.0⋅cos(θ₃(t))⋅───(θ₃(t)) + 6.0⋅───(θ₁(t)) +\n",
       "                       2                           2                2         \n",
       "                     dt                          dt               dt          \n",
       "\n",
       "       2                2       ⎞⎞\n",
       "      d                d        ⎟⎟\n",
       " 3.0⋅───(θ₂(t)) + 1.0⋅───(θ₃(t))⎟⎟\n",
       "       2                2       ⎟⎟\n",
       "     dt               dt        ⎠⎠"
      ]
     },
     "execution_count": 53,
     "metadata": {},
     "output_type": "execute_result"
    }
   ],
   "source": [
    "print(vlatex(torque1))\n",
    "torque1"
   ]
  },
  {
   "cell_type": "markdown",
   "metadata": {},
   "source": [
    "$ \\tau_{1}=Ml \\left(- g \\left(2.0 \\operatorname{sin}\\left(\\theta_{1} + \\theta_{2}\\right) + 1.0 \\operatorname{sin}\\left(\\theta_{1} + \\theta_{2} + \\theta_{3}\\right) + 3.0 \\operatorname{sin}\\left(\\theta_{1}\\right)\\right) + l \\left(- 2.0 \\left(\\dot{\\theta}_{2} + \\dot{\\theta}_{3}\\right) \\operatorname{sin}\\left(\\theta_{2} + \\theta_{3}\\right) \\dot{\\theta}_{1} - 1.0 \\left(\\dot{\\theta}_{2} + \\dot{\\theta}_{3}\\right) \\operatorname{sin}\\left(\\theta_{2} + \\theta_{3}\\right) \\dot{\\theta}_{2} - 1.0 \\left(\\dot{\\theta}_{2} + \\dot{\\theta}_{3}\\right) \\operatorname{sin}\\left(\\theta_{2} + \\theta_{3}\\right) \\dot{\\theta}_{3} - 4.0 \\operatorname{sin}\\left(\\theta_{2}\\right) \\dot{\\theta}_{1} \\dot{\\theta}_{2} - 2.0 \\operatorname{sin}\\left(\\theta_{2}\\right) \\dot{\\theta}_{2}^{2} - 2.0 \\operatorname{sin}\\left(\\theta_{3}\\right) \\dot{\\theta}_{1} \\dot{\\theta}_{3} - 2.0 \\operatorname{sin}\\left(\\theta_{3}\\right) \\dot{\\theta}_{2} \\dot{\\theta}_{3} - 1.0 \\operatorname{sin}\\left(\\theta_{3}\\right) \\dot{\\theta}_{3}^{2} + 2.0 \\operatorname{cos}\\left(\\theta_{2} + \\theta_{3}\\right) \\ddot{\\theta}_{1} + 1.0 \\operatorname{cos}\\left(\\theta_{2} + \\theta_{3}\\right) \\ddot{\\theta}_{2} + 1.0 \\operatorname{cos}\\left(\\theta_{2} + \\theta_{3}\\right) \\ddot{\\theta}_{3} + 4.0 \\operatorname{cos}\\left(\\theta_{2}\\right) \\ddot{\\theta}_{1} + 2.0 \\operatorname{cos}\\left(\\theta_{2}\\right) \\ddot{\\theta}_{2} + 2.0 \\operatorname{cos}\\left(\\theta_{3}\\right) \\ddot{\\theta}_{1} + 2.0 \\operatorname{cos}\\left(\\theta_{3}\\right) \\ddot{\\theta}_{2} + 1.0 \\operatorname{cos}\\left(\\theta_{3}\\right) \\ddot{\\theta}_{3} + 6.0 \\ddot{\\theta}_{1} + 3.0 \\ddot{\\theta}_{2} + 1.0 \\ddot{\\theta}_{3}\\right)\\right)\n",
    "$"
   ]
  },
  {
   "cell_type": "code",
   "execution_count": 54,
   "metadata": {},
   "outputs": [
    {
     "name": "stdout",
     "output_type": "stream",
     "text": [
      "M l \\left(- 2.0 g \\operatorname{sin}\\left(\\theta_{1} + \\theta_{2}\\right) - 1.0 g \\operatorname{sin}\\left(\\theta_{1} + \\theta_{2} + \\theta_{3}\\right) + 1.0 l \\operatorname{sin}\\left(\\theta_{2} + \\theta_{3}\\right) \\dot{\\theta}_{1}^{2} + 2.0 l \\operatorname{sin}\\left(\\theta_{2}\\right) \\dot{\\theta}_{1}^{2} - 2.0 l \\operatorname{sin}\\left(\\theta_{3}\\right) \\dot{\\theta}_{1} \\dot{\\theta}_{3} - 2.0 l \\operatorname{sin}\\left(\\theta_{3}\\right) \\dot{\\theta}_{2} \\dot{\\theta}_{3} - 1.0 l \\operatorname{sin}\\left(\\theta_{3}\\right) \\dot{\\theta}_{3}^{2} + 1.0 l \\operatorname{cos}\\left(\\theta_{2} + \\theta_{3}\\right) \\ddot{\\theta}_{1} + 2.0 l \\operatorname{cos}\\left(\\theta_{2}\\right) \\ddot{\\theta}_{1} + 2.0 l \\operatorname{cos}\\left(\\theta_{3}\\right) \\ddot{\\theta}_{1} + 2.0 l \\operatorname{cos}\\left(\\theta_{3}\\right) \\ddot{\\theta}_{2} + 1.0 l \\operatorname{cos}\\left(\\theta_{3}\\right) \\ddot{\\theta}_{3} + 3.0 l \\ddot{\\theta}_{1} + 3.0 l \\ddot{\\theta}_{2} + 1.0 l \\ddot{\\theta}_{3}\\right)\n"
     ]
    },
    {
     "data": {
      "image/png": "[encoded data removed]",
      "text/latex": [
       "$$M l \\left(- 2.0 g \\sin{\\left (\\theta_{1}{\\left (t \\right )} + \\theta_{2}{\\left (t \\right )} \\right )} - 1.0 g \\sin{\\left (\\theta_{1}{\\left (t \\right )} + \\theta_{2}{\\left (t \\right )} + \\theta_{3}{\\left (t \\right )} \\right )} + 1.0 l \\sin{\\left (\\theta_{2}{\\left (t \\right )} + \\theta_{3}{\\left (t \\right )} \\right )} \\left(\\frac{d}{d t} \\theta_{1}{\\left (t \\right )}\\right)^{2} + 2.0 l \\sin{\\left (\\theta_{2}{\\left (t \\right )} \\right )} \\left(\\frac{d}{d t} \\theta_{1}{\\left (t \\right )}\\right)^{2} - 2.0 l \\sin{\\left (\\theta_{3}{\\left (t \\right )} \\right )} \\frac{d}{d t} \\theta_{1}{\\left (t \\right )} \\frac{d}{d t} \\theta_{3}{\\left (t \\right )} - 2.0 l \\sin{\\left (\\theta_{3}{\\left (t \\right )} \\right )} \\frac{d}{d t} \\theta_{2}{\\left (t \\right )} \\frac{d}{d t} \\theta_{3}{\\left (t \\right )} - 1.0 l \\sin{\\left (\\theta_{3}{\\left (t \\right )} \\right )} \\left(\\frac{d}{d t} \\theta_{3}{\\left (t \\right )}\\right)^{2} + 1.0 l \\cos{\\left (\\theta_{2}{\\left (t \\right )} + \\theta_{3}{\\left (t \\right )} \\right )} \\frac{d^{2}}{d t^{2}} \\theta_{1}{\\left (t \\right )} + 2.0 l \\cos{\\left (\\theta_{2}{\\left (t \\right )} \\right )} \\frac{d^{2}}{d t^{2}} \\theta_{1}{\\left (t \\right )} + 2.0 l \\cos{\\left (\\theta_{3}{\\left (t \\right )} \\right )} \\frac{d^{2}}{d t^{2}} \\theta_{1}{\\left (t \\right )} + 2.0 l \\cos{\\left (\\theta_{3}{\\left (t \\right )} \\right )} \\frac{d^{2}}{d t^{2}} \\theta_{2}{\\left (t \\right )} + 1.0 l \\cos{\\left (\\theta_{3}{\\left (t \\right )} \\right )} \\frac{d^{2}}{d t^{2}} \\theta_{3}{\\left (t \\right )} + 3.0 l \\frac{d^{2}}{d t^{2}} \\theta_{1}{\\left (t \\right )} + 3.0 l \\frac{d^{2}}{d t^{2}} \\theta_{2}{\\left (t \\right )} + 1.0 l \\frac{d^{2}}{d t^{2}} \\theta_{3}{\\left (t \\right )}\\right)$$"
      ],
      "text/plain": [
       "    ⎛                                                                         \n",
       "    ⎜                                                                         \n",
       "M⋅l⋅⎜-2.0⋅g⋅sin(θ₁(t) + θ₂(t)) - 1.0⋅g⋅sin(θ₁(t) + θ₂(t) + θ₃(t)) + 1.0⋅l⋅sin(\n",
       "    ⎜                                                                         \n",
       "    ⎝                                                                         \n",
       "\n",
       "                          2                               2                   \n",
       "               ⎛d        ⎞                     ⎛d        ⎞                    \n",
       "θ₂(t) + θ₃(t))⋅⎜──(θ₁(t))⎟  + 2.0⋅l⋅sin(θ₂(t))⋅⎜──(θ₁(t))⎟  - 2.0⋅l⋅sin(θ₃(t))\n",
       "               ⎝dt       ⎠                     ⎝dt       ⎠                    \n",
       "                                                                              \n",
       "\n",
       "                                                                              \n",
       " d         d                            d         d                           \n",
       "⋅──(θ₁(t))⋅──(θ₃(t)) - 2.0⋅l⋅sin(θ₃(t))⋅──(θ₂(t))⋅──(θ₃(t)) - 1.0⋅l⋅sin(θ₃(t))\n",
       " dt        dt                           dt        dt                          \n",
       "                                                                              \n",
       "\n",
       "            2                              2                             2    \n",
       " ⎛d        ⎞                              d                             d     \n",
       "⋅⎜──(θ₃(t))⎟  + 1.0⋅l⋅cos(θ₂(t) + θ₃(t))⋅───(θ₁(t)) + 2.0⋅l⋅cos(θ₂(t))⋅───(θ₁(\n",
       " ⎝dt       ⎠                               2                             2    \n",
       "                                         dt                            dt     \n",
       "\n",
       "                         2                             2                      \n",
       "                        d                             d                       \n",
       "t)) + 2.0⋅l⋅cos(θ₃(t))⋅───(θ₁(t)) + 2.0⋅l⋅cos(θ₃(t))⋅───(θ₂(t)) + 1.0⋅l⋅cos(θ₃\n",
       "                         2                             2                      \n",
       "                       dt                            dt                       \n",
       "\n",
       "       2                  2                  2                  2       ⎞\n",
       "      d                  d                  d                  d        ⎟\n",
       "(t))⋅───(θ₃(t)) + 3.0⋅l⋅───(θ₁(t)) + 3.0⋅l⋅───(θ₂(t)) + 1.0⋅l⋅───(θ₃(t))⎟\n",
       "       2                  2                  2                  2       ⎟\n",
       "     dt                 dt                 dt                 dt        ⎠"
      ]
     },
     "execution_count": 54,
     "metadata": {},
     "output_type": "execute_result"
    }
   ],
   "source": [
    "print(vlatex(torque2))\n",
    "torque2"
   ]
  },
  {
   "cell_type": "code",
   "execution_count": 55,
   "metadata": {},
   "outputs": [
    {
     "name": "stdout",
     "output_type": "stream",
     "text": [
      "M l \\left(- 1.0 g \\operatorname{sin}\\left(\\theta_{1} + \\theta_{2} + \\theta_{3}\\right) + 1.0 l \\operatorname{sin}\\left(\\theta_{2} + \\theta_{3}\\right) \\dot{\\theta}_{1}^{2} + 1.0 l \\operatorname{sin}\\left(\\theta_{3}\\right) \\dot{\\theta}_{1}^{2} + 2.0 l \\operatorname{sin}\\left(\\theta_{3}\\right) \\dot{\\theta}_{1} \\dot{\\theta}_{2} + 1.0 l \\operatorname{sin}\\left(\\theta_{3}\\right) \\dot{\\theta}_{2}^{2} + 1.0 l \\operatorname{cos}\\left(\\theta_{2} + \\theta_{3}\\right) \\ddot{\\theta}_{1} + 1.0 l \\operatorname{cos}\\left(\\theta_{3}\\right) \\ddot{\\theta}_{1} + 1.0 l \\operatorname{cos}\\left(\\theta_{3}\\right) \\ddot{\\theta}_{2} + 1.0 l \\ddot{\\theta}_{1} + 1.0 l \\ddot{\\theta}_{2} + 1.0 l \\ddot{\\theta}_{3}\\right)\n"
     ]
    },
    {
     "data": {
      "image/png": "[encoded data removed]",
      "text/latex": [
       "$$M l \\left(- 1.0 g \\sin{\\left (\\theta_{1}{\\left (t \\right )} + \\theta_{2}{\\left (t \\right )} + \\theta_{3}{\\left (t \\right )} \\right )} + 1.0 l \\sin{\\left (\\theta_{2}{\\left (t \\right )} + \\theta_{3}{\\left (t \\right )} \\right )} \\left(\\frac{d}{d t} \\theta_{1}{\\left (t \\right )}\\right)^{2} + 1.0 l \\sin{\\left (\\theta_{3}{\\left (t \\right )} \\right )} \\left(\\frac{d}{d t} \\theta_{1}{\\left (t \\right )}\\right)^{2} + 2.0 l \\sin{\\left (\\theta_{3}{\\left (t \\right )} \\right )} \\frac{d}{d t} \\theta_{1}{\\left (t \\right )} \\frac{d}{d t} \\theta_{2}{\\left (t \\right )} + 1.0 l \\sin{\\left (\\theta_{3}{\\left (t \\right )} \\right )} \\left(\\frac{d}{d t} \\theta_{2}{\\left (t \\right )}\\right)^{2} + 1.0 l \\cos{\\left (\\theta_{2}{\\left (t \\right )} + \\theta_{3}{\\left (t \\right )} \\right )} \\frac{d^{2}}{d t^{2}} \\theta_{1}{\\left (t \\right )} + 1.0 l \\cos{\\left (\\theta_{3}{\\left (t \\right )} \\right )} \\frac{d^{2}}{d t^{2}} \\theta_{1}{\\left (t \\right )} + 1.0 l \\cos{\\left (\\theta_{3}{\\left (t \\right )} \\right )} \\frac{d^{2}}{d t^{2}} \\theta_{2}{\\left (t \\right )} + 1.0 l \\frac{d^{2}}{d t^{2}} \\theta_{1}{\\left (t \\right )} + 1.0 l \\frac{d^{2}}{d t^{2}} \\theta_{2}{\\left (t \\right )} + 1.0 l \\frac{d^{2}}{d t^{2}} \\theta_{3}{\\left (t \\right )}\\right)$$"
      ],
      "text/plain": [
       "    ⎛                                                                        2\n",
       "    ⎜                                                             ⎛d        ⎞ \n",
       "M⋅l⋅⎜-1.0⋅g⋅sin(θ₁(t) + θ₂(t) + θ₃(t)) + 1.0⋅l⋅sin(θ₂(t) + θ₃(t))⋅⎜──(θ₁(t))⎟ \n",
       "    ⎜                                                             ⎝dt       ⎠ \n",
       "    ⎝                                                                         \n",
       "\n",
       "                               2                                              \n",
       "                    ⎛d        ⎞                     d         d               \n",
       " + 1.0⋅l⋅sin(θ₃(t))⋅⎜──(θ₁(t))⎟  + 2.0⋅l⋅sin(θ₃(t))⋅──(θ₁(t))⋅──(θ₂(t)) + 1.0⋅\n",
       "                    ⎝dt       ⎠                     dt        dt              \n",
       "                                                                              \n",
       "\n",
       "                        2                              2                      \n",
       "             ⎛d        ⎞                              d                       \n",
       "l⋅sin(θ₃(t))⋅⎜──(θ₂(t))⎟  + 1.0⋅l⋅cos(θ₂(t) + θ₃(t))⋅───(θ₁(t)) + 1.0⋅l⋅cos(θ₃\n",
       "             ⎝dt       ⎠                               2                      \n",
       "                                                     dt                       \n",
       "\n",
       "       2                             2                  2                  2  \n",
       "      d                             d                  d                  d   \n",
       "(t))⋅───(θ₁(t)) + 1.0⋅l⋅cos(θ₃(t))⋅───(θ₂(t)) + 1.0⋅l⋅───(θ₁(t)) + 1.0⋅l⋅───(θ\n",
       "       2                             2                  2                  2  \n",
       "     dt                            dt                 dt                 dt   \n",
       "\n",
       "                2       ⎞\n",
       "               d        ⎟\n",
       "₂(t)) + 1.0⋅l⋅───(θ₃(t))⎟\n",
       "                2       ⎟\n",
       "              dt        ⎠"
      ]
     },
     "execution_count": 55,
     "metadata": {},
     "output_type": "execute_result"
    }
   ],
   "source": [
    "print(vlatex(torque3))\n",
    "torque3"
   ]
  },
  {
   "cell_type": "code",
   "execution_count": 56,
   "metadata": {},
   "outputs": [
    {
     "data": {
      "text/latex": [
       "$$\\left[\\begin{matrix}- M l \\left(2.0 g \\sin{\\left (\\theta_{1}{\\left (t \\right )} + \\theta_{2}{\\left (t \\right )} \\right )} + 1.0 g \\sin{\\left (\\theta_{1}{\\left (t \\right )} + \\theta_{2}{\\left (t \\right )} + \\theta_{3}{\\left (t \\right )} \\right )} + 3.0 g \\sin{\\left (\\theta_{1}{\\left (t \\right )} \\right )}\\right) + M l \\left(- 2.0 l \\left(\\frac{d}{d t} \\theta_{2}{\\left (t \\right )} + \\frac{d}{d t} \\theta_{3}{\\left (t \\right )}\\right) \\sin{\\left (\\theta_{2}{\\left (t \\right )} + \\theta_{3}{\\left (t \\right )} \\right )} \\frac{d}{d t} \\theta_{1}{\\left (t \\right )} - 1.0 l \\left(\\frac{d}{d t} \\theta_{2}{\\left (t \\right )} + \\frac{d}{d t} \\theta_{3}{\\left (t \\right )}\\right) \\sin{\\left (\\theta_{2}{\\left (t \\right )} + \\theta_{3}{\\left (t \\right )} \\right )} \\frac{d}{d t} \\theta_{2}{\\left (t \\right )} - 1.0 l \\left(\\frac{d}{d t} \\theta_{2}{\\left (t \\right )} + \\frac{d}{d t} \\theta_{3}{\\left (t \\right )}\\right) \\sin{\\left (\\theta_{2}{\\left (t \\right )} + \\theta_{3}{\\left (t \\right )} \\right )} \\frac{d}{d t} \\theta_{3}{\\left (t \\right )} - 4.0 l \\sin{\\left (\\theta_{2}{\\left (t \\right )} \\right )} \\frac{d}{d t} \\theta_{1}{\\left (t \\right )} \\frac{d}{d t} \\theta_{2}{\\left (t \\right )} - 2.0 l \\sin{\\left (\\theta_{2}{\\left (t \\right )} \\right )} \\left(\\frac{d}{d t} \\theta_{2}{\\left (t \\right )}\\right)^{2} - 2.0 l \\sin{\\left (\\theta_{3}{\\left (t \\right )} \\right )} \\frac{d}{d t} \\theta_{1}{\\left (t \\right )} \\frac{d}{d t} \\theta_{3}{\\left (t \\right )} - 2.0 l \\sin{\\left (\\theta_{3}{\\left (t \\right )} \\right )} \\frac{d}{d t} \\theta_{2}{\\left (t \\right )} \\frac{d}{d t} \\theta_{3}{\\left (t \\right )} - 1.0 l \\sin{\\left (\\theta_{3}{\\left (t \\right )} \\right )} \\left(\\frac{d}{d t} \\theta_{3}{\\left (t \\right )}\\right)^{2} + 2.0 l \\cos{\\left (\\theta_{2}{\\left (t \\right )} + \\theta_{3}{\\left (t \\right )} \\right )} \\frac{d^{2}}{d t^{2}} \\theta_{1}{\\left (t \\right )} + 1.0 l \\cos{\\left (\\theta_{2}{\\left (t \\right )} + \\theta_{3}{\\left (t \\right )} \\right )} \\frac{d^{2}}{d t^{2}} \\theta_{2}{\\left (t \\right )} + 1.0 l \\cos{\\left (\\theta_{2}{\\left (t \\right )} + \\theta_{3}{\\left (t \\right )} \\right )} \\frac{d^{2}}{d t^{2}} \\theta_{3}{\\left (t \\right )} + 4.0 l \\cos{\\left (\\theta_{2}{\\left (t \\right )} \\right )} \\frac{d^{2}}{d t^{2}} \\theta_{1}{\\left (t \\right )} + 2.0 l \\cos{\\left (\\theta_{2}{\\left (t \\right )} \\right )} \\frac{d^{2}}{d t^{2}} \\theta_{2}{\\left (t \\right )} + 2.0 l \\cos{\\left (\\theta_{3}{\\left (t \\right )} \\right )} \\frac{d^{2}}{d t^{2}} \\theta_{1}{\\left (t \\right )} + 2.0 l \\cos{\\left (\\theta_{3}{\\left (t \\right )} \\right )} \\frac{d^{2}}{d t^{2}} \\theta_{2}{\\left (t \\right )} + 1.0 l \\cos{\\left (\\theta_{3}{\\left (t \\right )} \\right )} \\frac{d^{2}}{d t^{2}} \\theta_{3}{\\left (t \\right )} + 6.0 l \\frac{d^{2}}{d t^{2}} \\theta_{1}{\\left (t \\right )} + 3.0 l \\frac{d^{2}}{d t^{2}} \\theta_{2}{\\left (t \\right )} + 1.0 l \\frac{d^{2}}{d t^{2}} \\theta_{3}{\\left (t \\right )}\\right)\\\\- M l \\left(2.0 g \\sin{\\left (\\theta_{1}{\\left (t \\right )} + \\theta_{2}{\\left (t \\right )} \\right )} + 1.0 g \\sin{\\left (\\theta_{1}{\\left (t \\right )} + \\theta_{2}{\\left (t \\right )} + \\theta_{3}{\\left (t \\right )} \\right )} - 1.0 l \\sin{\\left (\\theta_{2}{\\left (t \\right )} + \\theta_{3}{\\left (t \\right )} \\right )} \\left(\\frac{d}{d t} \\theta_{1}{\\left (t \\right )}\\right)^{2} - 1.0 l \\sin{\\left (\\theta_{2}{\\left (t \\right )} + \\theta_{3}{\\left (t \\right )} \\right )} \\frac{d}{d t} \\theta_{1}{\\left (t \\right )} \\frac{d}{d t} \\theta_{2}{\\left (t \\right )} - 1.0 l \\sin{\\left (\\theta_{2}{\\left (t \\right )} + \\theta_{3}{\\left (t \\right )} \\right )} \\frac{d}{d t} \\theta_{1}{\\left (t \\right )} \\frac{d}{d t} \\theta_{3}{\\left (t \\right )} - 2.0 l \\sin{\\left (\\theta_{2}{\\left (t \\right )} \\right )} \\left(\\frac{d}{d t} \\theta_{1}{\\left (t \\right )}\\right)^{2} - 2.0 l \\sin{\\left (\\theta_{2}{\\left (t \\right )} \\right )} \\frac{d}{d t} \\theta_{1}{\\left (t \\right )} \\frac{d}{d t} \\theta_{2}{\\left (t \\right )}\\right) + M l \\left(- 1.0 l \\left(\\frac{d}{d t} \\theta_{2}{\\left (t \\right )} + \\frac{d}{d t} \\theta_{3}{\\left (t \\right )}\\right) \\sin{\\left (\\theta_{2}{\\left (t \\right )} + \\theta_{3}{\\left (t \\right )} \\right )} \\frac{d}{d t} \\theta_{1}{\\left (t \\right )} - 2.0 l \\sin{\\left (\\theta_{2}{\\left (t \\right )} \\right )} \\frac{d}{d t} \\theta_{1}{\\left (t \\right )} \\frac{d}{d t} \\theta_{2}{\\left (t \\right )} - 2.0 l \\sin{\\left (\\theta_{3}{\\left (t \\right )} \\right )} \\frac{d}{d t} \\theta_{1}{\\left (t \\right )} \\frac{d}{d t} \\theta_{3}{\\left (t \\right )} - 2.0 l \\sin{\\left (\\theta_{3}{\\left (t \\right )} \\right )} \\frac{d}{d t} \\theta_{2}{\\left (t \\right )} \\frac{d}{d t} \\theta_{3}{\\left (t \\right )} - 1.0 l \\sin{\\left (\\theta_{3}{\\left (t \\right )} \\right )} \\left(\\frac{d}{d t} \\theta_{3}{\\left (t \\right )}\\right)^{2} + 1.0 l \\cos{\\left (\\theta_{2}{\\left (t \\right )} + \\theta_{3}{\\left (t \\right )} \\right )} \\frac{d^{2}}{d t^{2}} \\theta_{1}{\\left (t \\right )} + 2.0 l \\cos{\\left (\\theta_{2}{\\left (t \\right )} \\right )} \\frac{d^{2}}{d t^{2}} \\theta_{1}{\\left (t \\right )} + 2.0 l \\cos{\\left (\\theta_{3}{\\left (t \\right )} \\right )} \\frac{d^{2}}{d t^{2}} \\theta_{1}{\\left (t \\right )} + 2.0 l \\cos{\\left (\\theta_{3}{\\left (t \\right )} \\right )} \\frac{d^{2}}{d t^{2}} \\theta_{2}{\\left (t \\right )} + 1.0 l \\cos{\\left (\\theta_{3}{\\left (t \\right )} \\right )} \\frac{d^{2}}{d t^{2}} \\theta_{3}{\\left (t \\right )} + 3.0 l \\frac{d^{2}}{d t^{2}} \\theta_{1}{\\left (t \\right )} + 3.0 l \\frac{d^{2}}{d t^{2}} \\theta_{2}{\\left (t \\right )} + 1.0 l \\frac{d^{2}}{d t^{2}} \\theta_{3}{\\left (t \\right )}\\right)\\\\- M l \\left(1.0 g \\sin{\\left (\\theta_{1}{\\left (t \\right )} + \\theta_{2}{\\left (t \\right )} + \\theta_{3}{\\left (t \\right )} \\right )} - 1.0 l \\sin{\\left (\\theta_{2}{\\left (t \\right )} + \\theta_{3}{\\left (t \\right )} \\right )} \\left(\\frac{d}{d t} \\theta_{1}{\\left (t \\right )}\\right)^{2} - 1.0 l \\sin{\\left (\\theta_{2}{\\left (t \\right )} + \\theta_{3}{\\left (t \\right )} \\right )} \\frac{d}{d t} \\theta_{1}{\\left (t \\right )} \\frac{d}{d t} \\theta_{2}{\\left (t \\right )} - 1.0 l \\sin{\\left (\\theta_{2}{\\left (t \\right )} + \\theta_{3}{\\left (t \\right )} \\right )} \\frac{d}{d t} \\theta_{1}{\\left (t \\right )} \\frac{d}{d t} \\theta_{3}{\\left (t \\right )} - 1.0 l \\sin{\\left (\\theta_{3}{\\left (t \\right )} \\right )} \\left(\\frac{d}{d t} \\theta_{1}{\\left (t \\right )}\\right)^{2} - 2.0 l \\sin{\\left (\\theta_{3}{\\left (t \\right )} \\right )} \\frac{d}{d t} \\theta_{1}{\\left (t \\right )} \\frac{d}{d t} \\theta_{2}{\\left (t \\right )} - 1.0 l \\sin{\\left (\\theta_{3}{\\left (t \\right )} \\right )} \\frac{d}{d t} \\theta_{1}{\\left (t \\right )} \\frac{d}{d t} \\theta_{3}{\\left (t \\right )} - 1.0 l \\sin{\\left (\\theta_{3}{\\left (t \\right )} \\right )} \\left(\\frac{d}{d t} \\theta_{2}{\\left (t \\right )}\\right)^{2} - 1.0 l \\sin{\\left (\\theta_{3}{\\left (t \\right )} \\right )} \\frac{d}{d t} \\theta_{2}{\\left (t \\right )} \\frac{d}{d t} \\theta_{3}{\\left (t \\right )}\\right) + M l \\left(- 1.0 l \\left(\\frac{d}{d t} \\theta_{2}{\\left (t \\right )} + \\frac{d}{d t} \\theta_{3}{\\left (t \\right )}\\right) \\sin{\\left (\\theta_{2}{\\left (t \\right )} + \\theta_{3}{\\left (t \\right )} \\right )} \\frac{d}{d t} \\theta_{1}{\\left (t \\right )} - 1.0 l \\sin{\\left (\\theta_{3}{\\left (t \\right )} \\right )} \\frac{d}{d t} \\theta_{1}{\\left (t \\right )} \\frac{d}{d t} \\theta_{3}{\\left (t \\right )} - 1.0 l \\sin{\\left (\\theta_{3}{\\left (t \\right )} \\right )} \\frac{d}{d t} \\theta_{2}{\\left (t \\right )} \\frac{d}{d t} \\theta_{3}{\\left (t \\right )} + 1.0 l \\cos{\\left (\\theta_{2}{\\left (t \\right )} + \\theta_{3}{\\left (t \\right )} \\right )} \\frac{d^{2}}{d t^{2}} \\theta_{1}{\\left (t \\right )} + 1.0 l \\cos{\\left (\\theta_{3}{\\left (t \\right )} \\right )} \\frac{d^{2}}{d t^{2}} \\theta_{1}{\\left (t \\right )} + 1.0 l \\cos{\\left (\\theta_{3}{\\left (t \\right )} \\right )} \\frac{d^{2}}{d t^{2}} \\theta_{2}{\\left (t \\right )} + 1.0 l \\frac{d^{2}}{d t^{2}} \\theta_{1}{\\left (t \\right )} + 1.0 l \\frac{d^{2}}{d t^{2}} \\theta_{2}{\\left (t \\right )} + 1.0 l \\frac{d^{2}}{d t^{2}} \\theta_{3}{\\left (t \\right )}\\right)\\end{matrix}\\right]$$"
      ],
      "text/plain": [
       "⎡                                                                             \n",
       "⎢                                                                             \n",
       "⎢-M⋅l⋅(2.0⋅g⋅sin(θ₁(t) + θ₂(t)) + 1.0⋅g⋅sin(θ₁(t) + θ₂(t) + θ₃(t)) + 3.0⋅g⋅sin\n",
       "⎢                                                                             \n",
       "⎢                                                                             \n",
       "⎢                                                                             \n",
       "⎢                                          ⎛                                  \n",
       "⎢                                          ⎜                                  \n",
       "⎢                                    - M⋅l⋅⎜2.0⋅g⋅sin(θ₁(t) + θ₂(t)) + 1.0⋅g⋅s\n",
       "⎢                                          ⎝                                  \n",
       "⎢                                                                             \n",
       "⎢                                                                             \n",
       "⎢                                                                  ⎛          \n",
       "⎢                                                                  ⎜          \n",
       "⎢                                                            - M⋅l⋅⎜1.0⋅g⋅sin(\n",
       "⎢                                                                  ⎝          \n",
       "⎣                                                                             \n",
       "\n",
       "               ⎛                                                              \n",
       "               ⎜        ⎛d           d        ⎞                    d          \n",
       "(θ₁(t))) + M⋅l⋅⎜- 2.0⋅l⋅⎜──(θ₂(t)) + ──(θ₃(t))⎟⋅sin(θ₂(t) + θ₃(t))⋅──(θ₁(t)) -\n",
       "               ⎜        ⎝dt          dt       ⎠                    dt         \n",
       "               ⎝                                                              \n",
       "                                                                              \n",
       "                                                                2             \n",
       "                                                     ⎛d        ⎞              \n",
       "in(θ₁(t) + θ₂(t) + θ₃(t)) - 1.0⋅l⋅sin(θ₂(t) + θ₃(t))⋅⎜──(θ₁(t))⎟  - 1.0⋅l⋅sin(\n",
       "                                                     ⎝dt       ⎠              \n",
       "                                                                              \n",
       "                                                                              \n",
       "                                                             2                \n",
       "                                                  ⎛d        ⎞                 \n",
       "θ₁(t) + θ₂(t) + θ₃(t)) - 1.0⋅l⋅sin(θ₂(t) + θ₃(t))⋅⎜──(θ₁(t))⎟  - 1.0⋅l⋅sin(θ₂(\n",
       "                                                  ⎝dt       ⎠                 \n",
       "                                                                              \n",
       "\n",
       "                                                                              \n",
       "       ⎛d           d        ⎞                    d                 ⎛d        \n",
       " 1.0⋅l⋅⎜──(θ₂(t)) + ──(θ₃(t))⎟⋅sin(θ₂(t) + θ₃(t))⋅──(θ₂(t)) - 1.0⋅l⋅⎜──(θ₂(t))\n",
       "       ⎝dt          dt       ⎠                    dt                ⎝dt       \n",
       "                                                                              \n",
       "                                                                              \n",
       "                                                                              \n",
       "               d         d                                    d         d     \n",
       "θ₂(t) + θ₃(t))⋅──(θ₁(t))⋅──(θ₂(t)) - 1.0⋅l⋅sin(θ₂(t) + θ₃(t))⋅──(θ₁(t))⋅──(θ₃(\n",
       "               dt        dt                                   dt        dt    \n",
       "                                                                              \n",
       "                                                                              \n",
       "                                                                              \n",
       "            d         d                                    d         d        \n",
       "t) + θ₃(t))⋅──(θ₁(t))⋅──(θ₂(t)) - 1.0⋅l⋅sin(θ₂(t) + θ₃(t))⋅──(θ₁(t))⋅──(θ₃(t))\n",
       "            dt        dt                                   dt        dt       \n",
       "                                                                              \n",
       "\n",
       "                                                                              \n",
       "   d        ⎞                    d                            d         d     \n",
       " + ──(θ₃(t))⎟⋅sin(θ₂(t) + θ₃(t))⋅──(θ₃(t)) - 4.0⋅l⋅sin(θ₂(t))⋅──(θ₁(t))⋅──(θ₂(\n",
       "   dt       ⎠                    dt                           dt        dt    \n",
       "                                                                              \n",
       "                                                                              \n",
       "                                  2                                       ⎞   \n",
       "                       ⎛d        ⎞                     d         d        ⎟   \n",
       "t)) - 2.0⋅l⋅sin(θ₂(t))⋅⎜──(θ₁(t))⎟  - 2.0⋅l⋅sin(θ₂(t))⋅──(θ₁(t))⋅──(θ₂(t))⎟ + \n",
       "                       ⎝dt       ⎠                     dt        dt       ⎠   \n",
       "                                                                              \n",
       "                                                                              \n",
       "                               2                                              \n",
       "                    ⎛d        ⎞                     d         d               \n",
       " - 1.0⋅l⋅sin(θ₃(t))⋅⎜──(θ₁(t))⎟  - 2.0⋅l⋅sin(θ₃(t))⋅──(θ₁(t))⋅──(θ₂(t)) - 1.0⋅\n",
       "                    ⎝dt       ⎠                     dt        dt              \n",
       "                                                                              \n",
       "\n",
       "                                  2                                           \n",
       "                       ⎛d        ⎞                     d         d            \n",
       "t)) - 2.0⋅l⋅sin(θ₂(t))⋅⎜──(θ₂(t))⎟  - 2.0⋅l⋅sin(θ₃(t))⋅──(θ₁(t))⋅──(θ₃(t)) - 2\n",
       "                       ⎝dt       ⎠                     dt        dt           \n",
       "                                                                              \n",
       "                                                                              \n",
       "    ⎛                                                                         \n",
       "    ⎜        ⎛d           d        ⎞                    d                     \n",
       "M⋅l⋅⎜- 1.0⋅l⋅⎜──(θ₂(t)) + ──(θ₃(t))⎟⋅sin(θ₂(t) + θ₃(t))⋅──(θ₁(t)) - 2.0⋅l⋅sin(\n",
       "    ⎜        ⎝dt          dt       ⎠                    dt                    \n",
       "    ⎝                                                                         \n",
       "                                                                              \n",
       "                                                               2              \n",
       "             d         d                            ⎛d        ⎞               \n",
       "l⋅sin(θ₃(t))⋅──(θ₁(t))⋅──(θ₃(t)) - 1.0⋅l⋅sin(θ₃(t))⋅⎜──(θ₂(t))⎟  - 1.0⋅l⋅sin(θ\n",
       "             dt        dt                           ⎝dt       ⎠               \n",
       "                                                                              \n",
       "\n",
       "                                                                  2           \n",
       "                d         d                            ⎛d        ⎞            \n",
       ".0⋅l⋅sin(θ₃(t))⋅──(θ₂(t))⋅──(θ₃(t)) - 1.0⋅l⋅sin(θ₃(t))⋅⎜──(θ₃(t))⎟  + 2.0⋅l⋅co\n",
       "                dt        dt                           ⎝dt       ⎠            \n",
       "                                                                              \n",
       "                                                                              \n",
       "                                                                              \n",
       "       d         d                            d         d                     \n",
       "θ₂(t))⋅──(θ₁(t))⋅──(θ₂(t)) - 2.0⋅l⋅sin(θ₃(t))⋅──(θ₁(t))⋅──(θ₃(t)) - 2.0⋅l⋅sin(\n",
       "       dt        dt                           dt        dt                    \n",
       "                                                                              \n",
       "                                                                              \n",
       "                         ⎞       ⎛                                            \n",
       "      d         d        ⎟       ⎜        ⎛d           d        ⎞             \n",
       "₃(t))⋅──(θ₂(t))⋅──(θ₃(t))⎟ + M⋅l⋅⎜- 1.0⋅l⋅⎜──(θ₂(t)) + ──(θ₃(t))⎟⋅sin(θ₂(t) + \n",
       "      dt        dt       ⎠       ⎜        ⎝dt          dt       ⎠             \n",
       "                                 ⎝                                            \n",
       "\n",
       "                   2                                     2                    \n",
       "                  d                                     d                     \n",
       "s(θ₂(t) + θ₃(t))⋅───(θ₁(t)) + 1.0⋅l⋅cos(θ₂(t) + θ₃(t))⋅───(θ₂(t)) + 1.0⋅l⋅cos(\n",
       "                   2                                     2                    \n",
       "                 dt                                    dt                     \n",
       "                                                                              \n",
       "                                                         2                    \n",
       "       d         d                            ⎛d        ⎞                     \n",
       "θ₃(t))⋅──(θ₂(t))⋅──(θ₃(t)) - 1.0⋅l⋅sin(θ₃(t))⋅⎜──(θ₃(t))⎟  + 1.0⋅l⋅cos(θ₂(t) +\n",
       "       dt        dt                           ⎝dt       ⎠                     \n",
       "                                                                              \n",
       "                                                                              \n",
       "                                                                              \n",
       "       d                            d         d                            d  \n",
       "θ₃(t))⋅──(θ₁(t)) - 1.0⋅l⋅sin(θ₃(t))⋅──(θ₁(t))⋅──(θ₃(t)) - 1.0⋅l⋅sin(θ₃(t))⋅──(\n",
       "       dt                           dt        dt                           dt \n",
       "                                                                              \n",
       "\n",
       "                 2                             2                             2\n",
       "                d                             d                             d \n",
       "θ₂(t) + θ₃(t))⋅───(θ₃(t)) + 4.0⋅l⋅cos(θ₂(t))⋅───(θ₁(t)) + 2.0⋅l⋅cos(θ₂(t))⋅───\n",
       "                 2                             2                             2\n",
       "               dt                            dt                            dt \n",
       "                                                                              \n",
       "          2                             2                             2       \n",
       "         d                             d                             d        \n",
       " θ₃(t))⋅───(θ₁(t)) + 2.0⋅l⋅cos(θ₂(t))⋅───(θ₁(t)) + 2.0⋅l⋅cos(θ₃(t))⋅───(θ₁(t))\n",
       "          2                             2                             2       \n",
       "        dt                            dt                            dt        \n",
       "                                                                              \n",
       "                                              2                             2 \n",
       "       d                                     d                             d  \n",
       "θ₂(t))⋅──(θ₃(t)) + 1.0⋅l⋅cos(θ₂(t) + θ₃(t))⋅───(θ₁(t)) + 1.0⋅l⋅cos(θ₃(t))⋅───(\n",
       "       dt                                     2                             2 \n",
       "                                            dt                            dt  \n",
       "\n",
       "                             2                             2                  \n",
       "                            d                             d                   \n",
       "(θ₂(t)) + 2.0⋅l⋅cos(θ₃(t))⋅───(θ₁(t)) + 2.0⋅l⋅cos(θ₃(t))⋅───(θ₂(t)) + 1.0⋅l⋅co\n",
       "                             2                             2                  \n",
       "                           dt                            dt                   \n",
       "                                                                              \n",
       "                      2                             2                  2      \n",
       "                     d                             d                  d       \n",
       " + 2.0⋅l⋅cos(θ₃(t))⋅───(θ₂(t)) + 1.0⋅l⋅cos(θ₃(t))⋅───(θ₃(t)) + 3.0⋅l⋅───(θ₁(t)\n",
       "                      2                             2                  2      \n",
       "                    dt                            dt                 dt       \n",
       "                                                                              \n",
       "                            2                  2                  2           \n",
       "                           d                  d                  d            \n",
       "θ₁(t)) + 1.0⋅l⋅cos(θ₃(t))⋅───(θ₂(t)) + 1.0⋅l⋅───(θ₁(t)) + 1.0⋅l⋅───(θ₂(t)) + 1\n",
       "                            2                  2                  2           \n",
       "                          dt                 dt                 dt            \n",
       "\n",
       "           2                  2                  2                  2       ⎞⎤\n",
       "          d                  d                  d                  d        ⎟⎥\n",
       "s(θ₃(t))⋅───(θ₃(t)) + 6.0⋅l⋅───(θ₁(t)) + 3.0⋅l⋅───(θ₂(t)) + 1.0⋅l⋅───(θ₃(t))⎟⎥\n",
       "           2                  2                  2                  2       ⎟⎥\n",
       "         dt                 dt                 dt                 dt        ⎠⎥\n",
       "                                                                             ⎥\n",
       "            2                  2       ⎞                                     ⎥\n",
       "           d                  d        ⎟                                     ⎥\n",
       ") + 3.0⋅l⋅───(θ₂(t)) + 1.0⋅l⋅───(θ₃(t))⎟                                     ⎥\n",
       "            2                  2       ⎟                                     ⎥\n",
       "          dt                 dt        ⎠                                     ⎥\n",
       "                                                                             ⎥\n",
       "       2       ⎞                                                             ⎥\n",
       "      d        ⎟                                                             ⎥\n",
       ".0⋅l⋅───(θ₃(t))⎟                                                             ⎥\n",
       "       2       ⎟                                                             ⎥\n",
       "     dt        ⎠                                                             ⎦"
      ]
     },
     "execution_count": 56,
     "metadata": {},
     "output_type": "execute_result"
    }
   ],
   "source": [
    "LM = LagrangesMethod(L, [t1, t2,t3])\n",
    "LM.form_lagranges_equations()"
   ]
  },
  {
   "cell_type": "code",
   "execution_count": 58,
   "metadata": {},
   "outputs": [
    {
     "data": {
      "text/latex": [
       "$$\\left[\\begin{matrix}1 & 0 & 0 & 0 & 0 & 0\\\\0 & 1 & 0 & 0 & 0 & 0\\\\0 & 0 & 1 & 0 & 0 & 0\\\\0 & 0 & 0 & M l \\left(2.0 l \\cos{\\left (\\theta_{2}{\\left (t \\right )} + \\theta_{3}{\\left (t \\right )} \\right )} + 4.0 l \\cos{\\left (\\theta_{2}{\\left (t \\right )} \\right )} + 2.0 l \\cos{\\left (\\theta_{3}{\\left (t \\right )} \\right )} + 6.0 l\\right) & M l \\left(1.0 l \\cos{\\left (\\theta_{2}{\\left (t \\right )} + \\theta_{3}{\\left (t \\right )} \\right )} + 2.0 l \\cos{\\left (\\theta_{2}{\\left (t \\right )} \\right )} + 2.0 l \\cos{\\left (\\theta_{3}{\\left (t \\right )} \\right )} + 3.0 l\\right) & M l \\left(1.0 l \\cos{\\left (\\theta_{2}{\\left (t \\right )} + \\theta_{3}{\\left (t \\right )} \\right )} + 1.0 l \\cos{\\left (\\theta_{3}{\\left (t \\right )} \\right )} + 1.0 l\\right)\\\\0 & 0 & 0 & M l \\left(1.0 l \\cos{\\left (\\theta_{2}{\\left (t \\right )} + \\theta_{3}{\\left (t \\right )} \\right )} + 2.0 l \\cos{\\left (\\theta_{2}{\\left (t \\right )} \\right )} + 2.0 l \\cos{\\left (\\theta_{3}{\\left (t \\right )} \\right )} + 3.0 l\\right) & M l \\left(2.0 l \\cos{\\left (\\theta_{3}{\\left (t \\right )} \\right )} + 3.0 l\\right) & M l \\left(1.0 l \\cos{\\left (\\theta_{3}{\\left (t \\right )} \\right )} + 1.0 l\\right)\\\\0 & 0 & 0 & M l \\left(1.0 l \\cos{\\left (\\theta_{2}{\\left (t \\right )} + \\theta_{3}{\\left (t \\right )} \\right )} + 1.0 l \\cos{\\left (\\theta_{3}{\\left (t \\right )} \\right )} + 1.0 l\\right) & M l \\left(1.0 l \\cos{\\left (\\theta_{3}{\\left (t \\right )} \\right )} + 1.0 l\\right) & 1.0 M l^{2}\\end{matrix}\\right]$$"
      ],
      "text/plain": [
       "⎡1  0  0                                       0                              \n",
       "⎢                                                                             \n",
       "⎢0  1  0                                       0                              \n",
       "⎢                                                                             \n",
       "⎢0  0  1                                       0                              \n",
       "⎢                                                                             \n",
       "⎢0  0  0  M⋅l⋅(2.0⋅l⋅cos(θ₂(t) + θ₃(t)) + 4.0⋅l⋅cos(θ₂(t)) + 2.0⋅l⋅cos(θ₃(t)) \n",
       "⎢                                                                             \n",
       "⎢0  0  0  M⋅l⋅(1.0⋅l⋅cos(θ₂(t) + θ₃(t)) + 2.0⋅l⋅cos(θ₂(t)) + 2.0⋅l⋅cos(θ₃(t)) \n",
       "⎢                                                                             \n",
       "⎢                                                                             \n",
       "⎣0  0  0           M⋅l⋅(1.0⋅l⋅cos(θ₂(t) + θ₃(t)) + 1.0⋅l⋅cos(θ₃(t)) + 1.0⋅l)  \n",
       "\n",
       "                                               0                              \n",
       "                                                                              \n",
       "                                               0                              \n",
       "                                                                              \n",
       "                                               0                              \n",
       "                                                                              \n",
       "+ 6.0⋅l)  M⋅l⋅(1.0⋅l⋅cos(θ₂(t) + θ₃(t)) + 2.0⋅l⋅cos(θ₂(t)) + 2.0⋅l⋅cos(θ₃(t)) \n",
       "                                                                              \n",
       "+ 3.0⋅l)                         M⋅l⋅(2.0⋅l⋅cos(θ₃(t)) + 3.0⋅l)               \n",
       "                                                                              \n",
       "                                                                              \n",
       "                                 M⋅l⋅(1.0⋅l⋅cos(θ₃(t)) + 1.0⋅l)               \n",
       "\n",
       "                                      0                            ⎤\n",
       "                                                                   ⎥\n",
       "                                      0                            ⎥\n",
       "                                                                   ⎥\n",
       "                                      0                            ⎥\n",
       "                                                                   ⎥\n",
       "+ 3.0⋅l)  M⋅l⋅(1.0⋅l⋅cos(θ₂(t) + θ₃(t)) + 1.0⋅l⋅cos(θ₃(t)) + 1.0⋅l)⎥\n",
       "                                                                   ⎥\n",
       "                       M⋅l⋅(1.0⋅l⋅cos(θ₃(t)) + 1.0⋅l)              ⎥\n",
       "                                                                   ⎥\n",
       "                                         2                         ⎥\n",
       "                                  1.0⋅M⋅l                          ⎦"
      ]
     },
     "execution_count": 58,
     "metadata": {},
     "output_type": "execute_result"
    }
   ],
   "source": [
    "LM.mass_matrix_full"
   ]
  }
 ],
 "metadata": {
  "kernelspec": {
   "display_name": "Python 2",
   "language": "python",
   "name": "python2"
  },
  "language_info": {
   "codemirror_mode": {
    "name": "ipython",
    "version": 2
   },
   "file_extension": ".py",
   "mimetype": "text/x-python",
   "name": "python",
   "nbconvert_exporter": "python",
   "pygments_lexer": "ipython2",
   "version": "2.7.15rc1"
  }
 },
 "nbformat": 4,
 "nbformat_minor": 2
}
